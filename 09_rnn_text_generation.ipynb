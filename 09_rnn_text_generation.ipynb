{
 "cells": [
  {
   "cell_type": "markdown",
   "id": "3a564d5f",
   "metadata": {
    "jupyter": {
     "source_hidden": true
    }
   },
   "source": [
    "#  Генерация текста с использованием рекуррентных нейронных сетей\n",
    "\n",
    "__Автор задач: Блохин Н.В. (NVBlokhin@fa.ru)__\n",
    "\n",
    "Материалы: \n",
    "* Николенко С., Кадурин А., Архангельская Е. Глубокое обучение.\n",
    "* https://pytorch.org/docs/stable/nn.html#recurrent-layers\n",
    "* https://pytorch.org/tutorials/intermediate/char_rnn_generation_tutorial.html\n"
   ]
  },
  {
   "cell_type": "markdown",
   "id": "c9ecd663",
   "metadata": {},
   "source": [
    "## Задачи для совместного разбора"
   ]
  },
  {
   "cell_type": "markdown",
   "id": "8f8b28c1",
   "metadata": {},
   "source": [
    "1\\. Рассмотрите основные шаги обучения модели для генерации текста с использованием RNN.\n",
    "\n",
    "![text gen](https://www.tensorflow.org/static/text/tutorials/images/text_generation_sampling.png)"
   ]
  },
  {
   "cell_type": "markdown",
   "id": "8e9a58fe",
   "metadata": {},
   "source": [
    "В этой ЛР мы рассматриваем задачу генерации текста. Верхнеуровнево это выглядит так: по текущему токену и некоторой информации о предыдущих токенах наша цель - сгенерировать следующий токен. Похожие вещи мы раньше делали, оценивая вероятностные распределения. Модель на биграммах - частный случай (история = один предыдущий токен).\n",
    "\n",
    "Теперь мы усложняем модель и в качестве истории используем вектор скрытого состояния RNN, который получен после обработки части последовательности. Новый промежуточный вектор скрытого состояния можно использовать для прогноза следующего токена."
   ]
  },
  {
   "cell_type": "code",
   "execution_count": 28,
   "id": "d8d4e8c3",
   "metadata": {},
   "outputs": [
    {
     "data": {
      "text/plain": [
       "tensor([[6, 2, 2, 7, 5],\n",
       "        [1, 8, 5, 9, 9],\n",
       "        [8, 6, 8, 9, 9],\n",
       "        [6, 5, 3, 9, 2],\n",
       "        [4, 6, 5, 2, 6],\n",
       "        [8, 9, 8, 3, 6],\n",
       "        [3, 3, 0, 5, 8],\n",
       "        [6, 0, 5, 4, 4]])"
      ]
     },
     "execution_count": 28,
     "metadata": {},
     "output_type": "execute_result"
    }
   ],
   "source": [
    "import torch as th\n",
    "\n",
    "batch_size, seq_len, vocab_size = 8, 5, 10\n",
    "data = th.randint(0, vocab_size, size=(batch_size, seq_len)) # входные последовательности\n",
    "data"
   ]
  },
  {
   "cell_type": "markdown",
   "id": "93be87f7",
   "metadata": {},
   "source": [
    "Для обучения нужны примеры и ответы. Мы можем получить их из исходных данных, имея в виду решаемую задачу. Для конкретного токена правильный \"ответ\" в нашей постановке задачи - это следующий за ним токен"
   ]
  },
  {
   "cell_type": "code",
   "execution_count": null,
   "id": "d2fc7ef5",
   "metadata": {},
   "outputs": [],
   "source": [
    "X_t = X[:, :-1]\n",
    "y_t = X[:, 1:]"
   ]
  },
  {
   "cell_type": "code",
   "execution_count": null,
   "id": "d4f9e278",
   "metadata": {},
   "outputs": [
    {
     "data": {
      "text/plain": [
       "torch.Size([8, 4, 10])"
      ]
     },
     "execution_count": 9,
     "metadata": {},
     "output_type": "execute_result"
    }
   ],
   "source": [
    "import torch.nn as nn\n",
    "\n",
    "embedding_dim = 10\n",
    "emb = nn.Embedding(num_embeddings=10, embedding_dim=embedding_dim) # каждый токен заменяем на вектор\n",
    "X_e = emb(X_t)\n",
    "X_e.shape"
   ]
  },
  {
   "cell_type": "code",
   "execution_count": null,
   "id": "c8aa051e",
   "metadata": {},
   "outputs": [
    {
     "data": {
      "text/plain": [
       "torch.Size([8, 4, 7])"
      ]
     },
     "execution_count": 10,
     "metadata": {},
     "output_type": "execute_result"
    }
   ],
   "source": [
    "hidden_size = 7\n",
    "rnn = nn.RNN(input_size=embedding_dim, hidden_size=hidden_size, batch_first=True) \n",
    "\n",
    "out, h = rnn(X_e) # пропускаем последовательности через RNN\n",
    "out.shape"
   ]
  },
  {
   "cell_type": "markdown",
   "id": "7185864f",
   "metadata": {},
   "source": [
    "out - это векторы скрытых состояний после обработки очередного элемента последовательностей. Для каждого примера батча есть 4 (seq_len - 1) таких векторов. Каждый из них мы можем использовать для прогноза"
   ]
  },
  {
   "cell_type": "code",
   "execution_count": null,
   "id": "76e49441",
   "metadata": {},
   "outputs": [
    {
     "data": {
      "text/plain": [
       "torch.Size([8, 4, 10])"
      ]
     },
     "execution_count": 11,
     "metadata": {},
     "output_type": "execute_result"
    }
   ],
   "source": [
    "fc = nn.Linear(hidden_size, vocab_size)\n",
    "y_preds = fc(out)\n",
    "y_preds.shape"
   ]
  },
  {
   "cell_type": "markdown",
   "id": "160a38c4",
   "metadata": {},
   "source": [
    "На этом этапе у нас каждый из векторов имеет размерность 10 (по количеству уникальных токенов в словаре). Каждый из этих векторов трактуем как логиты. Цель - добиться того, чтобы логит, соответствующий правильному ответу (реально идущему далее слову) был побольше. В этом месте нам уже не нужна трехмерная структура."
   ]
  },
  {
   "cell_type": "code",
   "execution_count": null,
   "id": "7765a127",
   "metadata": {},
   "outputs": [
    {
     "data": {
      "text/plain": [
       "torch.Size([32, 10])"
      ]
     },
     "execution_count": 14,
     "metadata": {},
     "output_type": "execute_result"
    }
   ],
   "source": [
    "y_preds_2d = y_preds.reshape(batch_size * (seq_len - 1), -1)\n",
    "y_preds_2d.shape"
   ]
  },
  {
   "cell_type": "code",
   "execution_count": null,
   "id": "70359e3d",
   "metadata": {},
   "outputs": [
    {
     "data": {
      "text/plain": [
       "torch.Size([32])"
      ]
     },
     "execution_count": 15,
     "metadata": {},
     "output_type": "execute_result"
    }
   ],
   "source": [
    "y_t.flatten().shape"
   ]
  },
  {
   "cell_type": "markdown",
   "id": "0d7e7ca6",
   "metadata": {},
   "source": [
    "Теперь можно посчитать значение функции потерь и поотпимизировать его в стандартном цикле обучения."
   ]
  },
  {
   "cell_type": "markdown",
   "id": "483759fc",
   "metadata": {},
   "source": [
    "Во всей этой процедуре есть один токен, который будет встречаться очень часто - PAD. Вопрос: какое воздействие он должен оказывать на итоговое значение функции потерь? По факту, нас не интересуют прогнозы для этих токенов, т.к. они чисто служебные. Для учета этого факта можно рассмотреть параметр ignore_index при создании функции потерь. "
   ]
  },
  {
   "cell_type": "markdown",
   "id": "4d7b6d63",
   "metadata": {},
   "source": [
    "## Задачи для самостоятельного решения"
   ]
  },
  {
   "cell_type": "code",
   "execution_count": 306,
   "id": "6b3aa6fa",
   "metadata": {},
   "outputs": [],
   "source": [
    "import torch\n",
    "import re\n",
    "import numpy as np\n",
    "import torch.nn as nn\n",
    "import pandas as pd\n",
    "import tokenizers\n",
    "from tokenizers import Tokenizer\n",
    "from tokenizers.models import WordLevel\n",
    "from torch.utils.data import Dataset,DataLoader\n",
    "import matplotlib.pyplot as plt"
   ]
  },
  {
   "cell_type": "markdown",
   "id": "e9c5b920",
   "metadata": {},
   "source": [
    "<p class=\"task\" id=\"1\"></p>\n",
    "\n",
    "1\\. Считайте файл `pets_ru_en.csv`, приведите имена питомцев к нижнем регистру. Создайте Tokenizer на основе загруженных данных (токен - __буква__). Добавьте в словарь специальные токены `<PAD>`, `<SOS>`, `<EOS>`. Выведите на экран количество токенов в полученном словаре. \n",
    "\n",
    "- [ ] Проверено на семинаре"
   ]
  },
  {
   "cell_type": "code",
   "execution_count": 240,
   "id": "c8c0587d",
   "metadata": {},
   "outputs": [
    {
     "name": "stdout",
     "output_type": "stream",
     "text": [
      "(2913, 2)\n"
     ]
    },
    {
     "data": {
      "text/html": [
       "<div>\n",
       "<style scoped>\n",
       "    .dataframe tbody tr th:only-of-type {\n",
       "        vertical-align: middle;\n",
       "    }\n",
       "\n",
       "    .dataframe tbody tr th {\n",
       "        vertical-align: top;\n",
       "    }\n",
       "\n",
       "    .dataframe thead th {\n",
       "        text-align: right;\n",
       "    }\n",
       "</style>\n",
       "<table border=\"1\" class=\"dataframe\">\n",
       "  <thead>\n",
       "    <tr style=\"text-align: right;\">\n",
       "      <th></th>\n",
       "      <th>имя</th>\n",
       "      <th>язык</th>\n",
       "    </tr>\n",
       "  </thead>\n",
       "  <tbody>\n",
       "    <tr>\n",
       "      <th>0</th>\n",
       "      <td>Acapella</td>\n",
       "      <td>en</td>\n",
       "    </tr>\n",
       "    <tr>\n",
       "      <th>1</th>\n",
       "      <td>Achilles</td>\n",
       "      <td>en</td>\n",
       "    </tr>\n",
       "    <tr>\n",
       "      <th>2</th>\n",
       "      <td>Adriana</td>\n",
       "      <td>en</td>\n",
       "    </tr>\n",
       "    <tr>\n",
       "      <th>3</th>\n",
       "      <td>Alpha</td>\n",
       "      <td>en</td>\n",
       "    </tr>\n",
       "    <tr>\n",
       "      <th>4</th>\n",
       "      <td>Alyssum</td>\n",
       "      <td>en</td>\n",
       "    </tr>\n",
       "    <tr>\n",
       "      <th>...</th>\n",
       "      <td>...</td>\n",
       "      <td>...</td>\n",
       "    </tr>\n",
       "    <tr>\n",
       "      <th>2908</th>\n",
       "      <td>Ярика</td>\n",
       "      <td>rus</td>\n",
       "    </tr>\n",
       "    <tr>\n",
       "      <th>2909</th>\n",
       "      <td>Яриска</td>\n",
       "      <td>rus</td>\n",
       "    </tr>\n",
       "    <tr>\n",
       "      <th>2910</th>\n",
       "      <td>Ярка</td>\n",
       "      <td>rus</td>\n",
       "    </tr>\n",
       "    <tr>\n",
       "      <th>2911</th>\n",
       "      <td>Яркиса</td>\n",
       "      <td>rus</td>\n",
       "    </tr>\n",
       "    <tr>\n",
       "      <th>2912</th>\n",
       "      <td>Ярыся</td>\n",
       "      <td>rus</td>\n",
       "    </tr>\n",
       "  </tbody>\n",
       "</table>\n",
       "<p>2913 rows × 2 columns</p>\n",
       "</div>"
      ],
      "text/plain": [
       "           имя язык\n",
       "0     Acapella   en\n",
       "1     Achilles   en\n",
       "2      Adriana   en\n",
       "3        Alpha   en\n",
       "4      Alyssum   en\n",
       "...        ...  ...\n",
       "2908     Ярика  rus\n",
       "2909    Яриска  rus\n",
       "2910      Ярка  rus\n",
       "2911    Яркиса  rus\n",
       "2912     Ярыся  rus\n",
       "\n",
       "[2913 rows x 2 columns]"
      ]
     },
     "execution_count": 240,
     "metadata": {},
     "output_type": "execute_result"
    }
   ],
   "source": [
    "pets_data = pd.read_csv('/home/luchian/all_data/my_notebooks_data/pets_ru_en.csv')\n",
    "print(pets_data.shape)\n",
    "pets_data"
   ]
  },
  {
   "cell_type": "code",
   "execution_count": 241,
   "id": "561ce101",
   "metadata": {},
   "outputs": [],
   "source": [
    "class PetsData(object):\n",
    "    def __init__(self,dataset):\n",
    "        self.main_data = dataset\n",
    "\n",
    "    def __getitem__(self,indx):\n",
    "        string,lang = self.main_data.iloc[indx,:]\n",
    "        string_found = re.findall(r\"(.)\",string)\n",
    "        return ' '.join(string_found)\n",
    "    \n",
    "    def __len__(self):\n",
    "        return len(self.main_data)"
   ]
  },
  {
   "cell_type": "code",
   "execution_count": 242,
   "id": "f86eac33",
   "metadata": {},
   "outputs": [
    {
     "data": {
      "text/plain": [
       "<iterator at 0x70fb21712ec0>"
      ]
     },
     "execution_count": 242,
     "metadata": {},
     "output_type": "execute_result"
    }
   ],
   "source": [
    "some_iter = iter(PetsData(pets_data))\n",
    "some_iter"
   ]
  },
  {
   "cell_type": "code",
   "execution_count": 243,
   "id": "65bab503",
   "metadata": {},
   "outputs": [
    {
     "data": {
      "text/plain": [
       "'A c a p e l l a'"
      ]
     },
     "execution_count": 243,
     "metadata": {},
     "output_type": "execute_result"
    }
   ],
   "source": [
    "next(some_iter)"
   ]
  },
  {
   "cell_type": "code",
   "execution_count": 244,
   "id": "324ec4a6",
   "metadata": {},
   "outputs": [],
   "source": [
    "pets_tokenizer = Tokenizer(WordLevel())\n",
    "pets_trainer = tokenizers.trainers.WordLevelTrainer(special_tokens = ['[PAD]','[SOS]','[EOS]'])"
   ]
  },
  {
   "cell_type": "code",
   "execution_count": 245,
   "id": "d93674e1",
   "metadata": {},
   "outputs": [],
   "source": [
    "pets_tokenizer.pre_tokenizer = tokenizers.pre_tokenizers.Whitespace()\n",
    "pets_tokenizer.normalizer = tokenizers.normalizers.Lowercase()"
   ]
  },
  {
   "cell_type": "code",
   "execution_count": 246,
   "id": "a14a3675",
   "metadata": {},
   "outputs": [],
   "source": [
    "pets_tokenizer.train_from_iterator(PetsData(pets_data),trainer=pets_trainer)"
   ]
  },
  {
   "cell_type": "code",
   "execution_count": 247,
   "id": "eea92fe2",
   "metadata": {},
   "outputs": [
    {
     "name": "stdout",
     "output_type": "stream",
     "text": [
      "Жу-жа\n",
      "Зум-Зум\n",
      "Ли-Ли\n",
      "Лу-лу\n",
      "Нэко-тян\n",
      "Неко-мими\n",
      "Неко-тян\n",
      "Ума-умочка\n",
      "Фи-фи\n",
      "Чио-чио-сан\n",
      "Шу-шу\n",
      "Ши-ши\n",
      "Ю-Ю\n",
      "Юфи-юф\n",
      "Юм-юм\n"
     ]
    }
   ],
   "source": [
    "for name in pets_data['имя']:\n",
    "    if '-' in name:\n",
    "        print(name)"
   ]
  },
  {
   "cell_type": "code",
   "execution_count": 248,
   "id": "8d3f2261",
   "metadata": {},
   "outputs": [
    {
     "data": {
      "text/plain": [
       "62"
      ]
     },
     "execution_count": 248,
     "metadata": {},
     "output_type": "execute_result"
    }
   ],
   "source": [
    "pets_tokenizer.get_vocab_size()"
   ]
  },
  {
   "cell_type": "code",
   "execution_count": 249,
   "id": "36eef743",
   "metadata": {},
   "outputs": [
    {
     "data": {
      "text/plain": [
       "{'е': 12,\n",
       " 'с': 8,\n",
       " 'я': 22,\n",
       " 'л': 7,\n",
       " 'r': 9,\n",
       " 'т': 19,\n",
       " 'y': 34,\n",
       " 'ф': 35,\n",
       " 'р': 13,\n",
       " 'k': 45,\n",
       " 'ь': 37,\n",
       " 'i': 14,\n",
       " 'ц': 53,\n",
       " 'l': 18,\n",
       " 'w': 51,\n",
       " '[SOS]': 1,\n",
       " 'э': 39,\n",
       " 'д': 32,\n",
       " 'ы': 56,\n",
       " 'а': 3,\n",
       " 't': 20,\n",
       " 'у': 25,\n",
       " 'g': 38,\n",
       " 'б': 40,\n",
       " 'п': 36,\n",
       " 'f': 43,\n",
       " 'о': 21,\n",
       " 'к': 11,\n",
       " 'ч': 46,\n",
       " 'v': 52,\n",
       " 's': 17,\n",
       " 'p': 27,\n",
       " 'o': 15,\n",
       " 'и': 4,\n",
       " 'e': 5,\n",
       " 'h': 31,\n",
       " '[PAD]': 0,\n",
       " '[EOS]': 2,\n",
       " 'ш': 28,\n",
       " 'г': 44,\n",
       " 'j': 57,\n",
       " 'x': 55,\n",
       " 'a': 6,\n",
       " 'ё': 59,\n",
       " 'щ': 61,\n",
       " 'н': 10,\n",
       " 'z': 54,\n",
       " '-': 58,\n",
       " 'з': 41,\n",
       " 'b': 33,\n",
       " 'q': 60,\n",
       " 'м': 23,\n",
       " 'c': 24,\n",
       " 'й': 47,\n",
       " 'u': 26,\n",
       " 'n': 16,\n",
       " 'ю': 50,\n",
       " 'd': 30,\n",
       " 'm': 29,\n",
       " 'в': 42,\n",
       " 'ж': 48,\n",
       " 'х': 49}"
      ]
     },
     "execution_count": 249,
     "metadata": {},
     "output_type": "execute_result"
    }
   ],
   "source": [
    "pets_tokenizer.get_vocab()"
   ]
  },
  {
   "cell_type": "code",
   "execution_count": 250,
   "id": "824d8f74",
   "metadata": {},
   "outputs": [
    {
     "data": {
      "text/plain": [
       "0"
      ]
     },
     "execution_count": 250,
     "metadata": {},
     "output_type": "execute_result"
    }
   ],
   "source": [
    "pets_tokenizer.token_to_id('[PAD]')"
   ]
  },
  {
   "cell_type": "code",
   "execution_count": 251,
   "id": "1af2e54b",
   "metadata": {},
   "outputs": [
    {
     "data": {
      "text/plain": [
       "1"
      ]
     },
     "execution_count": 251,
     "metadata": {},
     "output_type": "execute_result"
    }
   ],
   "source": [
    "pets_tokenizer.token_to_id('[SOS]')"
   ]
  },
  {
   "cell_type": "code",
   "execution_count": 252,
   "id": "e3862321",
   "metadata": {},
   "outputs": [
    {
     "data": {
      "text/plain": [
       "2"
      ]
     },
     "execution_count": 252,
     "metadata": {},
     "output_type": "execute_result"
    }
   ],
   "source": [
    "pets_tokenizer.token_to_id('[EOS]')"
   ]
  },
  {
   "cell_type": "markdown",
   "id": "1fe1170d",
   "metadata": {},
   "source": [
    "<p class=\"task\" id=\"2\"></p>\n",
    "\n",
    "2\\. Создайте класс `PetsGenDataset`. Используя преобразования, сделайте длины наборов индексов одинаковой фиксированной длины (подходящее значение определите сами) и добавьте в начало каждого набора индекс `<SOS>`, а в конец - индекс токена `<EOS>`. Реализуйте `__getitem__` таким образом, чтобы он возвращал кортеж `(x, y)` в соответствии с приведенным рисунком. Создайте объект `DataLoader` с размером батча 128 и включенным `shuffle`. Выведите на экран размер `x` и `y` из одного батча.\n",
    "\n",
    "<img src=\"data:image/png;base64,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\">\n",
    "\n",
    "- [ ] Проверено на семинаре"
   ]
  },
  {
   "cell_type": "code",
   "execution_count": 253,
   "id": "21042d1f",
   "metadata": {},
   "outputs": [],
   "source": [
    "class Padding(object):\n",
    "    def __init__(self,pad = 24):\n",
    "        self.pad = pad \n",
    "\n",
    "    def __call__(self,X):\n",
    "        the_dtype = X.dtype\n",
    "        ret_tensor = torch.zeros(self.pad,dtype = the_dtype)\n",
    "        ret_tensor[:X.shape[0]] = X\n",
    "        return ret_tensor"
   ]
  },
  {
   "cell_type": "code",
   "execution_count": 254,
   "id": "441cb1f3",
   "metadata": {},
   "outputs": [],
   "source": [
    "class PetsGenDataset(Dataset):\n",
    "    def __init__(self,data,transforms = None,tokenizer = pets_tokenizer):\n",
    "        self.main_data = data\n",
    "        self.transforms = transforms\n",
    "        self.tokenizer = tokenizer\n",
    "    \n",
    "    def __getitem__(self,indx):\n",
    "        tens = torch.LongTensor([pets_tokenizer.token_to_id(one_token[0].lower()) for one_token in self.tokenizer.pre_tokenizer.pre_tokenize_str(self.main_data[indx])])\n",
    "        sos = torch.tensor(self.tokenizer.token_to_id('[SOS]'),dtype = torch.int64).reshape(1)\n",
    "        eos = torch.tensor(self.tokenizer.token_to_id('[EOS]'),dtype = torch.int64).reshape(1)\n",
    "        pad = torch.tensor(self.tokenizer.token_to_id('[PAD]'),dtype = torch.int64).reshape(1)\n",
    "        tens = torch.cat([sos,tens,eos]) if self.transforms == None else self.transforms(torch.cat([sos,tens,eos]))\n",
    "        return tens,torch.cat([tens[1:],pad])\n",
    "    \n",
    "    def __len__(self):\n",
    "        return len(self.main_data)"
   ]
  },
  {
   "cell_type": "code",
   "execution_count": 255,
   "id": "2cfd0fce",
   "metadata": {},
   "outputs": [
    {
     "data": {
      "text/plain": [
       "22"
      ]
     },
     "execution_count": 255,
     "metadata": {},
     "output_type": "execute_result"
    }
   ],
   "source": [
    "names = pets_data['имя']\n",
    "len(max(names.tolist(),key = lambda x: len(x)))"
   ]
  },
  {
   "cell_type": "code",
   "execution_count": 256,
   "id": "7fb901b4",
   "metadata": {},
   "outputs": [
    {
     "data": {
      "text/plain": [
       "<__main__.PetsGenDataset at 0x70fb217526f0>"
      ]
     },
     "execution_count": 256,
     "metadata": {},
     "output_type": "execute_result"
    }
   ],
   "source": [
    "my_pets_dataset = PetsGenDataset(PetsData(pets_data),Padding())\n",
    "my_pets_dataset"
   ]
  },
  {
   "cell_type": "code",
   "execution_count": 257,
   "id": "f00b8e33",
   "metadata": {},
   "outputs": [
    {
     "data": {
      "text/plain": [
       "<torch.utils.data.dataloader.DataLoader at 0x70fb21751250>"
      ]
     },
     "execution_count": 257,
     "metadata": {},
     "output_type": "execute_result"
    }
   ],
   "source": [
    "testing_loader = DataLoader(dataset = my_pets_dataset,shuffle = True,batch_size = 128)\n",
    "testing_loader"
   ]
  },
  {
   "cell_type": "code",
   "execution_count": 258,
   "id": "4022b241",
   "metadata": {},
   "outputs": [
    {
     "data": {
      "text/plain": [
       "2"
      ]
     },
     "execution_count": 258,
     "metadata": {},
     "output_type": "execute_result"
    }
   ],
   "source": [
    "one_sample = next(iter(testing_loader))\n",
    "len(one_sample)"
   ]
  },
  {
   "cell_type": "code",
   "execution_count": 259,
   "id": "9ee8f7e8",
   "metadata": {},
   "outputs": [
    {
     "data": {
      "text/plain": [
       "(torch.Size([128, 24]), torch.Size([128, 24]))"
      ]
     },
     "execution_count": 259,
     "metadata": {},
     "output_type": "execute_result"
    }
   ],
   "source": [
    "one_sample[0].shape,one_sample[1].shape"
   ]
  },
  {
   "cell_type": "code",
   "execution_count": 260,
   "id": "72b852c4",
   "metadata": {},
   "outputs": [
    {
     "name": "stdout",
     "output_type": "stream",
     "text": [
      "tensor([ 1, 33, 18, 14, 16, 38,  2,  0,  0,  0,  0,  0,  0,  0,  0,  0,  0,  0,\n",
      "         0,  0,  0,  0,  0,  0])\n",
      "tensor([33, 18, 14, 16, 38,  2,  0,  0,  0,  0,  0,  0,  0,  0,  0,  0,  0,  0,\n",
      "         0,  0,  0,  0,  0,  0])\n"
     ]
    }
   ],
   "source": [
    "print(one_sample[0][0])\n",
    "print(one_sample[1][0])"
   ]
  },
  {
   "cell_type": "markdown",
   "id": "08ab0366",
   "metadata": {},
   "source": [
    "<p class=\"task\" id=\"3\"></p>\n",
    "\n",
    "3\\. Напишите функцию, которая генерирует имя питомца при помощи обученной модели:\n",
    "  * построение начинается с последовательности единичной длины, состоящей из индекса токена `<SOS>`;\n",
    "  * начальное скрытое состояние RNN `h_t = None`;\n",
    "  * в результате прогона последнего токена из построенной последовательности через модель получаете новое скрытое состояние `h_t` и распределение над всеми токенами из словаря;\n",
    "  * выбираете 1 токен пропорционально вероятности и добавляете его в последовательность (можно воспользоваться `torch.multinomial`);\n",
    "  * повторяете эти действия до тех пор, пока не сгенерирован токен `<EOS>` или не превышена максимальная длина последовательности;\n",
    "  * функция возвращает строку из букв с первой заглавной буквой.\n",
    "  \n",
    "- [ ] Проверено на семинаре"
   ]
  },
  {
   "cell_type": "code",
   "execution_count": 278,
   "id": "1f5efd9f",
   "metadata": {},
   "outputs": [],
   "source": [
    "def generate_name(model,tokenizer,dev = 'cuda'):\n",
    "    model.eval()\n",
    "    generated_tokens = []\n",
    "    sos = torch.tensor(tokenizer.token_to_id('[SOS]'),dtype = torch.int64).reshape(1).to(device = dev)\n",
    "    current_pred = sos\n",
    "    while current_pred != tokenizer.token_to_id('[EOS]'):\n",
    "        y_pred = model(current_pred)\n",
    "        probs = y_pred.cpu().softmax(dim = 1)\n",
    "        distr_item = torch.multinomial(probs,num_samples=1).reshape(-1).to(device = dev)\n",
    "        letter = tokenizer.id_to_token(distr_item.item())\n",
    "        if letter != '[EOS]':\n",
    "            generated_tokens.append(letter)\n",
    "        current_pred = distr_item\n",
    "    return ''.join(generated_tokens).capitalize()\n"
   ]
  },
  {
   "cell_type": "code",
   "execution_count": 283,
   "id": "55d16dab",
   "metadata": {},
   "outputs": [
    {
     "data": {
      "text/plain": [
       "'Фскшцфлuf[sos]ююгпзюzжц'"
      ]
     },
     "execution_count": 283,
     "metadata": {},
     "output_type": "execute_result"
    }
   ],
   "source": [
    "probs = generate_name(LangModel,pets_tokenizer)\n",
    "probs"
   ]
  },
  {
   "cell_type": "markdown",
   "id": "5b720c14",
   "metadata": {},
   "source": [
    "<p class=\"task\" id=\"4\"></p>\n",
    "\n",
    "4\\. Создайте и обучите модель для генерации имени питомца. Задача классификации ставится как предсказание следующего токена в каждом примере из пакета для каждого элемента последовательности (по прочитанной подстроке предсказывается следующий символ для данной строки). Каждые несколько эпох выводите примеры генерации имен при помощи текущего состояния модели. Игнорируйте токен `<PAD>` при расчете ошибки. \n",
    "\n",
    "Примерная схема реализации метода `forward`:\n",
    "```\n",
    "input_X: [batch_size x seq_len] -> nn.Embedding -> emb_X: [batch_size x seq_len x embedding_size]\n",
    "emb_X: [batch_size x seq_len x embedding_size] -> nn.RNN -> output: [batch_size x seq_len x hidden_size] \n",
    "output: [batch_size x seq_len x hidden_size] -> torch.Tensor.reshape -> output: [batch_size * seq_len x hidden_size]\n",
    "output: [batch_size * seq_len x hidden_size] -> nn.Linear -> output: [batch_size * seq_len x vocab_size]\n",
    "```\n",
    "\n",
    "- [ ] Проверено на семинаре"
   ]
  },
  {
   "cell_type": "code",
   "execution_count": 25,
   "id": "8099103f",
   "metadata": {},
   "outputs": [
    {
     "data": {
      "text/plain": [
       "62"
      ]
     },
     "execution_count": 25,
     "metadata": {},
     "output_type": "execute_result"
    }
   ],
   "source": [
    "vocab_size = pets_tokenizer.get_vocab_size()\n",
    "vocab_size"
   ]
  },
  {
   "cell_type": "code",
   "execution_count": 26,
   "id": "a14c1fdc",
   "metadata": {},
   "outputs": [
    {
     "data": {
      "text/plain": [
       "Embedding(62, 10, padding_idx=0)"
      ]
     },
     "execution_count": 26,
     "metadata": {},
     "output_type": "execute_result"
    }
   ],
   "source": [
    "embd = nn.Embedding(num_embeddings=vocab_size,embedding_dim = 10,padding_idx = 0)\n",
    "embd"
   ]
  },
  {
   "cell_type": "code",
   "execution_count": 27,
   "id": "de1d636d",
   "metadata": {},
   "outputs": [
    {
     "data": {
      "text/plain": [
       "torch.Size([128, 24])"
      ]
     },
     "execution_count": 27,
     "metadata": {},
     "output_type": "execute_result"
    }
   ],
   "source": [
    "x = one_sample[0]\n",
    "x.shape"
   ]
  },
  {
   "cell_type": "code",
   "execution_count": 28,
   "id": "1ef11fc3",
   "metadata": {},
   "outputs": [
    {
     "data": {
      "text/plain": [
       "torch.Size([128, 24, 10])"
      ]
     },
     "execution_count": 28,
     "metadata": {},
     "output_type": "execute_result"
    }
   ],
   "source": [
    "y = embd(x)\n",
    "y.shape"
   ]
  },
  {
   "cell_type": "code",
   "execution_count": 29,
   "id": "34b36a0f",
   "metadata": {},
   "outputs": [
    {
     "data": {
      "text/plain": [
       "torch.Size([128, 24])"
      ]
     },
     "execution_count": 29,
     "metadata": {},
     "output_type": "execute_result"
    }
   ],
   "source": [
    "targets = one_sample[1]\n",
    "targets.shape"
   ]
  },
  {
   "cell_type": "code",
   "execution_count": 30,
   "id": "b6b77250",
   "metadata": {},
   "outputs": [
    {
     "data": {
      "text/plain": [
       "RNN(10, 5)"
      ]
     },
     "execution_count": 30,
     "metadata": {},
     "output_type": "execute_result"
    }
   ],
   "source": [
    "some_rnn = nn.RNN(input_size = 10,hidden_size=5)\n",
    "some_rnn"
   ]
  },
  {
   "cell_type": "code",
   "execution_count": 31,
   "id": "293bf4a8",
   "metadata": {},
   "outputs": [],
   "source": [
    "y = some_rnn(y)\n"
   ]
  },
  {
   "cell_type": "code",
   "execution_count": 32,
   "id": "6858311f",
   "metadata": {},
   "outputs": [
    {
     "data": {
      "text/plain": [
       "torch.Size([128, 24, 5])"
      ]
     },
     "execution_count": 32,
     "metadata": {},
     "output_type": "execute_result"
    }
   ],
   "source": [
    "y[0].shape"
   ]
  },
  {
   "cell_type": "code",
   "execution_count": 33,
   "id": "b5cbb1d0",
   "metadata": {},
   "outputs": [],
   "source": [
    "y = y[0].reshape(128*24,5)"
   ]
  },
  {
   "cell_type": "code",
   "execution_count": 34,
   "id": "a300d4c2",
   "metadata": {},
   "outputs": [],
   "source": [
    "some_lin = nn.Linear(5,vocab_size)"
   ]
  },
  {
   "cell_type": "code",
   "execution_count": 35,
   "id": "d1581c61",
   "metadata": {},
   "outputs": [
    {
     "data": {
      "text/plain": [
       "torch.Size([3072, 62])"
      ]
     },
     "execution_count": 35,
     "metadata": {},
     "output_type": "execute_result"
    }
   ],
   "source": [
    "tar = some_lin(y)\n",
    "tar.shape"
   ]
  },
  {
   "cell_type": "code",
   "execution_count": 36,
   "id": "e00523a9",
   "metadata": {},
   "outputs": [],
   "source": [
    "true = targets.reshape(-1)"
   ]
  },
  {
   "cell_type": "code",
   "execution_count": 37,
   "id": "b9ed5f45",
   "metadata": {},
   "outputs": [
    {
     "data": {
      "text/plain": [
       "torch.Size([3072])"
      ]
     },
     "execution_count": 37,
     "metadata": {},
     "output_type": "execute_result"
    }
   ],
   "source": [
    "true.shape"
   ]
  },
  {
   "cell_type": "code",
   "execution_count": 38,
   "id": "76e662b4",
   "metadata": {},
   "outputs": [],
   "source": [
    "the_loss = nn.CrossEntropyLoss()"
   ]
  },
  {
   "cell_type": "code",
   "execution_count": 39,
   "id": "3e0c87c4",
   "metadata": {},
   "outputs": [
    {
     "data": {
      "text/plain": [
       "tensor(4.0655, grad_fn=<NllLossBackward0>)"
      ]
     },
     "execution_count": 39,
     "metadata": {},
     "output_type": "execute_result"
    }
   ],
   "source": [
    "the_loss(tar,true)"
   ]
  },
  {
   "cell_type": "code",
   "execution_count": 377,
   "id": "eaa9abff",
   "metadata": {},
   "outputs": [],
   "source": [
    "class LanguageModel(nn.Module):\n",
    "    def __init__(self,input_size,hidden_size,tokenizer = pets_tokenizer,embd_dim = 5,lins = 128):\n",
    "        super(LanguageModel,self).__init__()\n",
    "        self.tokenizer = tokenizer\n",
    "        self.input_size = input_size\n",
    "        self.hidden_size = hidden_size\n",
    "        self.embd_dim = embd_dim\n",
    "        self.lins = lins\n",
    "        #layers\n",
    "        self.rel = nn.ReLU()\n",
    "        self.drop = nn.Dropout1d(p=0.15)\n",
    "        self.rnn1 = nn.LSTM(input_size=self.input_size,hidden_size=self.hidden_size)\n",
    "        self.rnn2 = nn.LSTM(input_size=self.hidden_size,hidden_size=self.hidden_size)\n",
    "        self.embd = nn.Embedding(num_embeddings=self.tokenizer.get_vocab_size(),embedding_dim = self.embd_dim,padding_idx=0)\n",
    "        self.lin1 = nn.Linear(self.hidden_size,self.lins)\n",
    "        self.lin2 = nn.Linear(self.lins,self.tokenizer.get_vocab_size())\n",
    "    \n",
    "    def forward(self,X):\n",
    "        xx = self.embd(X)\n",
    "        xx = xx if len(xx.size()) == 3 else xx.unsqueeze(dim = 0)\n",
    "        \n",
    "        y = self.rnn1(xx)[0]\n",
    "        y = self.rnn2(y)[0]\n",
    "        y = y.unsqueeze(dim = 0) if len(y.size()) == 2 else y\n",
    "        y = y.reshape(y.shape[0]*y.shape[1],self.hidden_size)\n",
    "        \n",
    "        y = self.lin1(y)\n",
    "        y = self.rel(y)\n",
    "        y = self.drop(y)\n",
    "\n",
    "        y = self.lin2(y)\n",
    "        return y"
   ]
  },
  {
   "cell_type": "code",
   "execution_count": 390,
   "id": "61cb4d79",
   "metadata": {},
   "outputs": [],
   "source": [
    "training_dataset = PetsGenDataset(PetsData(pets_data),Padding())\n",
    "LangModel = LanguageModel(\n",
    "    input_size=12,\n",
    "    hidden_size=32,\n",
    "    tokenizer=pets_tokenizer,\n",
    "    embd_dim = 12,\n",
    "    lins = 32\n",
    ").to(device = 'cuda')"
   ]
  },
  {
   "cell_type": "code",
   "execution_count": 391,
   "id": "17767903",
   "metadata": {},
   "outputs": [],
   "source": [
    "loss = nn.CrossEntropyLoss(reduction='mean')\n",
    "epoch = 32\n",
    "batch_size = 64\n",
    "lr = 0.03\n",
    "the_optim = torch.optim.Adam(LangModel.parameters(),lr = lr,betas = (0.9,0.99))"
   ]
  },
  {
   "cell_type": "code",
   "execution_count": 392,
   "id": "d835e3ba",
   "metadata": {},
   "outputs": [],
   "source": [
    "train_loader = DataLoader(dataset = training_dataset,shuffle = True,batch_size = batch_size)"
   ]
  },
  {
   "cell_type": "code",
   "execution_count": 393,
   "id": "b9b27bf1",
   "metadata": {},
   "outputs": [],
   "source": [
    "def train_model(\n",
    "        model,\n",
    "        loss,\n",
    "        the_optim,\n",
    "        epoch,\n",
    "        loader,\n",
    "        dev = 'cuda',\n",
    "        print_every = 2\n",
    "):\n",
    "    loss_list = []\n",
    "    for ep in range(epoch):\n",
    "        model.train()\n",
    "        for X,y in loader:\n",
    "            X,y = X.to(device = dev),y.to(device = dev)\n",
    "            y_pred = model(X)\n",
    "            y = y.reshape(-1)\n",
    "            batch_loss = loss(y_pred,y)\n",
    "            batch_loss.backward()\n",
    "            loss_list.append(round(batch_loss.item(),5))\n",
    "            the_optim.step()\n",
    "            the_optim.zero_grad()\n",
    "        if ep % print_every == 0:\n",
    "            print(f'Epoch #{ep} | TrainLoss: {loss_list[-1]} | Generated word: {generate_name(model=model,tokenizer=model.tokenizer,dev = dev)}') #word here should be \n",
    "    return loss_list   "
   ]
  },
  {
   "cell_type": "code",
   "execution_count": 394,
   "id": "d6d25862",
   "metadata": {},
   "outputs": [
    {
     "name": "stdout",
     "output_type": "stream",
     "text": [
      "Epoch #0 | TrainLoss: 1.49107 | Generated word: Каaaоюбооффе\n",
      "Epoch #2 | TrainLoss: 0.98999 | Generated word: Аphnелtnа\n",
      "Epoch #4 | TrainLoss: 0.90642 | Generated word: Ревоокиянипьтаса\n",
      "Epoch #6 | TrainLoss: 0.94737 | Generated word: Лишсаа\n",
      "Epoch #8 | TrainLoss: 0.85583 | Generated word: Юшка\n",
      "Epoch #10 | TrainLoss: 0.87207 | Generated word: Ola\n",
      "Epoch #12 | TrainLoss: 0.87462 | Generated word: На\n",
      "Epoch #14 | TrainLoss: 0.83579 | Generated word: Датирушаньмосогонокардронкайранейнаб\n",
      "Epoch #16 | TrainLoss: 0.91493 | Generated word: Irtis[pad][pad][pad][pad][pad][pad][pad][pad][pad][pad][pad][pad][pad][pad][pad][pad][pad][pad][pad][pad][pad][pad][pad][pad][pad][pad][pad][pad][pad][pad][pad][pad][pad][pad][pad][pad][pad][pad][pad][pad][pad][pad][pad][pad][pad][pad][pad][pad][pad][pad][pad][pad][pad][pad][pad][pad][pad][pad][pad][pad][pad][pad][pad][pad][pad][pad][pad][pad][pad][pad][pad][pad][pad][pad][pad][pad][pad][pad][pad][pad][pad][pad][pad][pad][pad][pad][pad][pad][pad][pad][pad][pad][pad][pad][pad][pad][pad][pad][pad][pad][pad][pad][pad][pad][pad][pad][pad][pad][pad][pad][pad][pad][pad][pad][pad][pad][pad][pad][pad][pad][pad][pad][pad][pad][pad][pad][pad][pad][pad][pad][pad][pad][pad][pad][pad][pad][pad][pad][pad][pad][pad][pad][pad][pad][pad][pad][pad][pad][pad][pad][pad][pad][pad][pad][pad][pad][pad][pad][pad][pad][pad][pad][pad][pad][pad][pad][pad][pad][pad][pad][pad][pad][pad][pad][pad][pad][pad][pad][pad][pad][pad][pad][pad][pad][pad][pad][pad][pad][pad][pad][pad][pad][pad][pad][pad][pad][pad][pad][pad][pad][pad][pad][pad][pad][pad][pad][pad][pad][pad][pad][pad][pad][pad][pad][pad][pad][pad][pad][pad][pad][pad][pad][pad][pad][pad][pad][pad][pad][pad][pad][pad][pad][pad][pad][pad][pad][pad][pad][pad][pad][pad][pad][pad][pad][pad][pad][pad][pad][pad][pad][pad][pad][pad][pad][pad][pad][pad][pad][pad][pad][pad][pad][pad][pad][pad][pad][pad][pad][pad][pad][pad][pad][pad][pad][pad][pad][pad][pad][pad][pad][pad][pad][pad][pad][pad][pad][pad][pad][pad][pad][pad][pad][pad][pad][pad][pad][pad][pad][pad][pad][pad][pad][pad][pad][pad][pad][pad][pad][pad][pad][pad][pad][pad][pad][pad][pad][pad][pad][pad][pad][pad][pad][pad][pad][pad][pad][pad][pad][pad][pad][pad][pad][pad][pad][pad][pad][pad][pad][pad][pad][pad][pad][pad][pad][pad][pad][pad][pad][pad][pad][pad][pad][pad][pad][pad][pad][pad][pad][pad][pad][pad][pad][pad][pad][pad][pad][pad][pad][pad][pad][pad][pad][pad][pad][pad][pad][pad][pad][pad][pad][pad][pad][pad][pad][pad][pad][pad][pad][pad][pad][pad][pad][pad][pad][pad][pad][pad][pad][pad][pad][pad][pad][pad][pad][pad][pad][pad][pad][pad][pad][pad][pad][pad][pad][pad][pad][pad][pad][pad][pad][pad][pad][pad][pad][pad][pad][pad][pad][pad][pad][pad][pad][pad][pad][pad][pad][pad][pad][pad][pad][pad][pad][pad][pad][pad][pad][pad][pad][pad][pad][pad][pad][pad][pad][pad][pad][pad][pad][pad][pad][pad][pad][pad][pad][pad][pad][pad][pad][pad][pad][pad][pad][pad][pad][pad][pad][pad][pad][pad][pad][pad][pad][pad][pad][pad][pad][pad][pad][pad][pad][pad][pad][pad][pad][pad][pad][pad][pad][pad][pad][pad][pad][pad][pad][pad][pad][pad][pad][pad][pad][pad][pad][pad][pad][pad][pad][pad][pad][pad][pad][pad][pad][pad][pad][pad][pad][pad][pad][pad][pad][pad][pad][pad][pad][pad][pad][pad][pad][pad][pad][pad][pad][pad][pad][pad][pad][pad][pad][pad][pad][pad][pad][pad][pad][pad][pad][pad][pad][pad][pad][pad][pad][pad][pad][pad][pad][pad][pad][pad][pad][pad][pad][pad][pad][pad][pad][pad][pad][pad][pad][pad][pad][pad][pad][pad][pad][pad][pad][pad][pad][pad][pad][pad][pad][pad][pad][pad][pad][pad][pad][pad][pad][pad][pad][pad][pad][pad][pad][pad][pad][pad][pad][pad][pad][pad][pad][pad][pad][pad][pad][pad][pad][pad][pad][pad][pad][pad][pad][pad][pad][pad][pad][pad][pad][pad][pad][pad][pad][pad][pad][pad][pad][pad][pad][pad][pad][pad][pad][pad][pad][pad][pad][pad][pad][pad][pad][pad][pad][pad][pad][pad][pad][pad][pad][pad][pad][pad][pad][pad][pad][pad][pad][pad][pad][pad][pad][pad][pad][pad][pad][pad][pad][pad][pad][pad][pad][pad][pad][pad][pad][pad][pad][pad][pad][pad][pad][pad][pad][pad][pad][pad][pad][pad][pad][pad][pad][pad][pad][pad][pad][pad][pad][pad][pad][pad][pad][pad][pad][pad][pad][pad][pad][pad][pad][pad][pad][pad][pad][pad][pad][pad][pad][pad][pad][pad][pad][pad][pad][pad][pad][pad][pad][pad][pad][pad][pad][pad][pad][pad][pad][pad][pad][pad][pad][pad][pad][pad][pad][pad][pad][pad][pad][pad][pad][pad][pad][pad][pad][pad][pad][pad][pad][pad][pad][pad][pad][pad][pad][pad][pad][pad][pad][pad][pad][pad][pad][pad][pad][pad][pad][pad][pad][pad][pad][pad][pad][pad][pad][pad][pad][pad][pad][pad][pad][pad][pad][pad][pad][pad][pad][pad][pad][pad][pad][pad][pad][pad][pad][pad][pad][pad][pad][pad][pad][pad][pad][pad][pad][pad][pad][pad][pad][pad][pad][pad][pad][pad][pad][pad][pad][pad][pad][pad][pad][pad][pad][pad][pad][pad][pad][pad][pad][pad][pad][pad][pad][pad][pad][pad][pad][pad][pad][pad][pad][pad][pad][pad][pad][pad][pad][pad][pad][pad][pad][pad][pad][pad][pad][pad][pad][pad][pad][pad][pad][pad][pad][pad][pad][pad][pad][pad][pad][pad][pad][pad][pad][pad][pad][pad][pad][pad][pad][pad][pad][pad][pad][pad][pad][pad][pad][pad][pad][pad][pad][pad][pad][pad][pad][pad][pad][pad][pad][pad][pad][pad][pad][pad][pad][pad][pad][pad][pad][pad][pad][pad][pad][pad][pad][pad][pad][pad][pad][pad][pad][pad][pad][pad][pad][pad][pad][pad][pad][pad][pad][pad][pad][pad][pad][pad][pad][pad][pad][pad][pad][pad][pad][pad][pad][pad][pad][pad][pad][pad][pad][pad][pad][pad][pad][pad][pad][pad][pad][pad][pad][pad][pad][pad][pad][pad][pad][pad][pad][pad][pad][pad][pad][pad][pad][pad][pad][pad][pad][pad][pad][pad][pad][pad][pad][pad][pad][pad][pad][pad][pad][pad][pad][pad][pad][pad][pad][pad][pad][pad][pad][pad][pad][pad][pad][pad][pad][pad][pad][pad][pad][pad][pad][pad][pad][pad][pad][pad][pad][pad][pad][pad][pad][pad][pad][pad][pad][pad][pad][pad][pad][pad][pad][pad][pad][pad][pad][pad][pad][pad][pad][pad][pad][pad][pad][pad][pad][pad][pad][pad][pad][pad][pad][pad][pad][pad][pad][pad][pad][pad][pad][pad][pad][pad][pad][pad][pad][pad][pad][pad][pad][pad][pad][pad][pad][pad][pad][pad][pad][pad][pad][pad][pad][pad][pad][pad][pad][pad][pad][pad][pad][pad][pad][pad][pad][pad][pad][pad][pad][pad][pad][pad][pad][pad][pad][pad][pad][pad][pad][pad][pad][pad][pad][pad][pad][pad][pad][pad][pad][pad][pad][pad][pad][pad][pad][pad][pad][pad][pad][pad][pad][pad][pad][pad][pad][pad][pad][pad][pad][pad][pad][pad][pad][pad][pad][pad][pad][pad][pad][pad][pad][pad][pad][pad][pad][pad][pad][pad][pad][pad][pad][pad][pad][pad][pad][pad][pad][pad][pad][pad][pad][pad][pad][pad][pad][pad][pad][pad][pad][pad][pad][pad][pad][pad][pad][pad][pad][pad][pad][pad][pad][pad][pad][pad][pad][pad][pad][pad][pad][pad][pad][pad][pad][pad][pad][pad][pad][pad][pad][pad][pad][pad][pad][pad][pad][pad][pad][pad][pad][pad][pad][pad][pad][pad][pad][pad][pad][pad][pad][pad][pad][pad][pad][pad][pad][pad][pad][pad][pad][pad][pad][pad][pad][pad][pad][pad][pad][pad][pad][pad][pad][pad][pad][pad][pad][pad][pad][pad][pad][pad][pad][pad][pad][pad][pad][pad][pad][pad][pad][pad][pad][pad][pad][pad][pad][pad][pad][pad][pad][pad][pad][pad][pad][pad][pad][pad][pad][pad][pad][pad][pad][pad][pad][pad][pad][pad][pad][pad][pad][pad][pad][pad][pad][pad][pad][pad][pad][pad][pad][pad][pad][pad][pad][pad][pad][pad][pad][pad][pad][pad][pad][pad][pad][pad][pad][pad][pad][pad][pad][pad][pad][pad][pad][pad][pad][pad][pad][pad][pad][pad][pad][pad][pad][pad][pad][pad][pad][pad][pad][pad][pad][pad][pad][pad][pad][pad][pad][pad][pad][pad][pad][pad][pad][pad][pad][pad][pad][pad][pad][pad][pad][pad][pad][pad][pad][pad][pad][pad][pad][pad][pad][pad][pad][pad][pad][pad][pad][pad][pad][pad][pad][pad][pad][pad][pad][pad][pad][pad][pad][pad][pad][pad][pad][pad][pad][pad][pad][pad][pad][pad][pad][pad][pad][pad][pad][pad][pad][pad][pad][pad][pad][pad][pad][pad][pad][pad][pad][pad][pad][pad][pad][pad][pad][pad][pad][pad][pad][pad][pad][pad][pad][pad][pad][pad][pad][pad][pad][pad][pad][pad][pad][pad][pad][pad][pad][pad][pad][pad][pad][pad][pad][pad][pad][pad][pad][pad][pad][pad][pad][pad][pad][pad][pad][pad][pad][pad][pad][pad][pad][pad][pad][pad][pad][pad][pad][pad][pad][pad][pad][pad][pad][pad][pad][pad][pad][pad][pad][pad][pad][pad][pad][pad][pad][pad][pad][pad][pad][pad][pad][pad][pad][pad][pad][pad][pad][pad][pad][pad][pad][pad][pad][pad][pad][pad][pad][pad][pad][pad][pad][pad][pad][pad][pad][pad][pad][pad][pad][pad][pad][pad][pad][pad][pad][pad][pad][pad][pad][pad][pad][pad][pad][pad][pad][pad][pad][pad][pad][pad][pad][pad][pad][pad][pad][pad][pad][pad][pad][pad][pad][pad][pad][pad][pad][pad][pad][pad][pad][pad][pad][pad][pad][pad][pad][pad][pad][pad][pad][pad][pad][pad][pad][pad][pad][pad][pad][pad][pad][pad][pad][pad][pad][pad][pad][pad][pad][pad][pad][pad][pad][pad][pad][pad][pad][pad][pad][pad][pad][pad][pad][pad][pad][pad][pad][pad][pad][pad][pad][pad][pad][pad][pad][pad][pad][pad][pad][pad][pad][pad][pad][pad][pad][pad][pad][pad][pad][pad][pad][pad][pad][pad][pad][pad][pad][pad][pad][pad][pad][pad][pad][pad][pad][pad][pad][pad][pad][pad][pad][pad][pad][pad][pad][pad][pad][pad][pad][pad][pad][pad][pad][pad][pad][pad][pad][pad][pad][pad][pad][pad][pad][pad][pad][pad][pad][pad][pad][pad][pad][pad][pad][pad][pad][pad][pad][pad][pad][pad][pad][pad][pad][pad][pad][pad][pad][pad][pad][pad][pad][pad][pad][pad][pad][pad][pad][pad][pad][pad][pad][pad][pad][pad][pad][pad][pad][pad][pad][pad][pad][pad][pad][pad][pad][pad][pad][pad][pad][pad][pad][pad][pad][pad][pad][pad][pad][pad][pad][pad][pad][pad][pad][pad][pad][pad][pad][pad][pad][pad][pad][pad][pad][pad][pad][pad][pad][pad][pad][pad][pad][pad][pad][pad][pad][pad][pad][pad][pad][pad][pad][pad][pad][pad][pad][pad][pad][pad][pad][pad][pad][pad][pad][pad][pad][pad][pad][pad][pad][pad][pad][pad][pad][pad][pad][pad][pad][pad][pad][pad][pad][pad][pad][pad][pad][pad][pad][pad][pad][pad][pad][pad][pad][pad][pad][pad][pad][pad][pad][pad][pad][pad][pad][pad][pad][pad][pad][pad][pad][pad][pad][pad][pad][pad][pad][pad][pad][pad][pad][pad][pad][pad][pad][pad][pad][pad][pad][pad][pad][pad][pad][pad][pad][pad][pad][pad][pad][pad][pad][pad][pad][pad][pad][pad][pad][pad][pad][pad][pad][pad][pad][pad][pad][pad][pad][pad][pad][pad][pad][pad][pad][pad][pad][pad][pad][pad][pad][pad][pad][pad][pad][pad][pad][pad][pad][pad][pad][pad][pad][pad][pad][pad][pad][pad][pad][pad][pad][pad][pad][pad][pad][pad][pad][pad][pad][pad][pad][pad][pad][pad][pad][pad][pad][pad][pad][pad][pad][pad][pad][pad][pad][pad][pad][pad][pad][pad][pad][pad][pad][pad][pad][pad][pad][pad][pad][pad][pad][pad][pad][pad][pad][pad][pad][pad][pad][pad][pad][pad][pad][pad][pad][pad][pad][pad][pad][pad][pad][pad][pad][pad][pad][pad][pad][pad][pad][pad][pad][pad][pad][pad][pad][pad][pad][pad][pad][pad][pad][pad][pad][pad][pad][pad][pad][pad][pad][pad][pad][pad][pad][pad][pad][pad][pad][pad][pad][pad][pad][pad][pad][pad][pad][pad][pad][pad][pad][pad][pad][pad][pad][pad][pad][pad][pad][pad][pad][pad][pad][pad][pad][pad][pad][pad][pad][pad][pad][pad][pad][pad][pad][pad][pad][pad][pad][pad][pad][pad][pad][pad][pad][pad][pad][pad][pad][pad][pad][pad][pad][pad][pad][pad][pad][pad][pad][pad][pad][pad][pad][pad][pad][pad][pad][pad][pad][pad][pad][pad][pad][pad][pad][pad][pad][pad][pad][pad][pad][pad][pad][pad][pad][pad][pad][pad][pad][pad][pad][pad][pad][pad][pad][pad][pad][pad][pad][pad][pad][pad][pad][pad][pad][pad][pad][pad][pad][pad][pad][pad][pad][pad][pad][pad][pad][pad][pad][pad][pad][pad][pad][pad][pad][pad][pad][pad][pad][pad][pad][pad][pad][pad][pad][pad][pad][pad][pad][pad][pad][pad][pad][pad][pad][pad][pad][pad][pad][pad][pad][pad][pad][pad][pad][pad][pad][pad][pad][pad][pad][pad][pad][pad][pad][pad][pad][pad][pad][pad][pad][pad][pad][pad][pad][pad][pad][pad][pad][pad][pad][pad][pad][pad][pad][pad][pad][pad][pad][pad][pad][pad][pad][pad][pad][pad][pad][pad][pad][pad][pad][pad][pad][pad][pad][pad][pad][pad][pad][pad][pad][pad][pad][pad][pad][pad][pad][pad][pad][pad][pad][pad][pad][pad][pad][pad][pad][pad][pad][pad][pad][pad][pad][pad][pad][pad][pad][pad][pad][pad][pad][pad][pad][pad][pad][pad][pad][pad][pad][pad][pad][pad][pad][pad][pad][pad][pad][pad][pad][pad][pad][pad][pad][pad][pad][pad][pad][pad][pad][pad][pad][pad][pad][pad][pad][pad][pad][pad][pad][pad][pad][pad][pad][pad][pad][pad][pad][pad][pad][pad][pad][pad][pad][pad][pad][pad][pad][pad][pad][pad][pad][pad][pad][pad][pad][pad][pad][pad][pad][pad][pad][pad][pad][pad][pad][pad][pad][pad][pad][pad][pad][pad][pad][pad][pad][pad][pad][pad][pad][pad][pad][pad][pad][pad][pad][pad][pad][pad][pad][pad][pad][pad][pad][pad][pad][pad][pad][pad][pad][pad][pad][pad][pad][pad][pad][pad][pad][pad][pad][pad][pad][pad][pad][pad][pad][pad][pad][pad][pad][pad][pad][pad][pad][pad][pad][pad][pad][pad][pad][pad][pad][pad][pad][pad][pad][pad][pad][pad][pad][pad][pad][pad][pad][pad][pad][pad][pad][pad][pad][pad][pad][pad][pad][pad][pad][pad][pad][pad][pad][pad][pad][pad][pad][pad][pad][pad][pad][pad][pad][pad][pad][pad][pad][pad][pad][pad][pad][pad][pad][pad][pad][pad][pad][pad][pad][pad][pad][pad][pad][pad][pad][pad][pad][pad][pad][pad][pad][pad][pad][pad][pad][pad][pad][pad][pad][pad][pad][pad][pad][pad][pad][pad][pad][pad][pad][pad][pad][pad][pad][pad][pad][pad][pad][pad][pad][pad][pad][pad][pad][pad][pad][pad][pad][pad][pad][pad][pad][pad][pad][pad][pad][pad][pad][pad][pad][pad][pad][pad][pad][pad][pad][pad][pad][pad][pad][pad][pad][pad][pad][pad][pad][pad][pad][pad][pad][pad][pad][pad][pad][pad][pad][pad][pad][pad][pad][pad][pad][pad][pad][pad][pad][pad][pad][pad][pad][pad][pad][pad][pad][pad][pad][pad][pad][pad][pad][pad][pad][pad][pad][pad][pad][pad][pad][pad][pad][pad][pad][pad][pad][pad][pad][pad][pad][pad][pad][pad][pad][pad][pad][pad][pad][pad][pad][pad][pad][pad][pad][pad][pad][pad][pad][pad][pad][pad][pad][pad][pad][pad][pad][pad][pad][pad][pad][pad][pad][pad][pad][pad][pad][pad][pad][pad][pad][pad][pad][pad][pad][pad][pad][pad][pad][pad][pad][pad][pad][pad][pad][pad][pad][pad][pad][pad][pad][pad][pad][pad][pad][pad][pad][pad][pad][pad][pad][pad][pad][pad][pad][pad][pad][pad][pad][pad][pad][pad][pad][pad][pad][pad][pad][pad][pad][pad][pad][pad][pad][pad][pad][pad][pad][pad][pad][pad][pad][pad][pad][pad][pad][pad][pad][pad][pad][pad][pad][pad][pad][pad][pad][pad][pad][pad][pad][pad][pad][pad][pad][pad][pad][pad][pad][pad][pad][pad][pad][pad][pad][pad][pad][pad][pad][pad][pad][pad][pad][pad][pad][pad][pad][pad][pad][pad][pad][pad][pad][pad][pad][pad][pad][pad][pad][pad][pad][pad][pad][pad][pad][pad][pad][pad][pad][pad][pad][pad][pad][pad][pad][pad][pad][pad][pad][pad][pad][pad][pad][pad][pad][pad][pad][pad][pad][pad][pad][pad][pad][pad][pad][pad][pad][pad][pad][pad][pad][pad][pad][pad][pad][pad][pad][pad][pad][pad][pad][pad][pad][pad][pad][pad][pad][pad][pad][pad][pad][pad][pad][pad][pad][pad][pad][pad][pad][pad][pad][pad][pad][pad][pad][pad][pad][pad][pad][pad][pad][pad][pad][pad][pad][pad][pad][pad][pad][pad][pad][pad][pad][pad][pad][pad][pad][pad][pad][pad][pad][pad][pad][pad][pad][pad][pad][pad][pad][pad][pad][pad][pad][pad][pad][pad][pad][pad][pad][pad][pad][pad][pad][pad][pad][pad][pad][pad][pad][pad][pad][pad][pad][pad][pad][pad][pad][pad][pad][pad][pad][pad][pad][pad][pad][pad][pad][pad][pad][pad][pad][pad][pad][pad][pad][pad][pad][pad][pad][pad][pad][pad][pad][pad][pad][pad][pad][pad][pad][pad][pad][pad][pad][pad][pad][pad][pad][pad][pad][pad][pad][pad][pad][pad][pad][pad][pad][pad][pad][pad][pad][pad][pad][pad][pad][pad][pad][pad][pad][pad][pad][pad][pad][pad][pad][pad][pad][pad][pad][pad][pad][pad][pad][pad][pad][pad][pad][pad][pad][pad][pad][pad][pad][pad][pad][pad][pad][pad][pad][pad][pad][pad][pad][pad][pad][pad][pad][pad][pad][pad][pad][pad][pad][pad][pad][pad][pad][pad][pad][pad][pad][pad][pad][pad][pad][pad][pad][pad][pad][pad][pad][pad][pad][pad][pad][pad][pad][pad][pad][pad][pad][pad][pad][pad][pad][pad][pad][pad][pad][pad][pad][pad][pad][pad][pad][pad][pad][pad][pad][pad][pad][pad][pad][pad][pad][pad][pad][pad][pad][pad][pad][pad][pad][pad][pad][pad][pad][pad][pad][pad][pad][pad][pad][pad][pad][pad][pad][pad][pad][pad][pad][pad][pad][pad][pad][pad][pad][pad][pad][pad][pad][pad][pad][pad][pad][pad][pad][pad][pad][pad][pad][pad][pad][pad][pad][pad][pad][pad][pad][pad][pad][pad][pad][pad][pad][pad][pad][pad][pad][pad][pad][pad][pad][pad][pad][pad][pad][pad][pad][pad][pad][pad][pad][pad][pad][pad][pad][pad][pad][pad][pad][pad][pad][pad][pad][pad][pad][pad][pad][pad][pad][pad][pad][pad][pad][pad][pad][pad][pad][pad][pad][pad][pad][pad][pad][pad][pad][pad][pad][pad][pad][pad][pad][pad][pad][pad][pad][pad][pad][pad][pad][pad][pad][pad][pad][pad][pad][pad][pad][pad][pad][pad][pad][pad][pad][pad][pad][pad][pad][pad][pad][pad][pad][pad][pad][pad][pad][pad][pad][pad][pad][pad][pad][pad][pad][pad][pad][pad][pad][pad][pad][pad][pad][pad][pad][pad][pad][pad][pad][pad][pad][pad][pad][pad][pad][pad][pad][pad][pad][pad][pad][pad][pad][pad][pad][pad][pad][pad][pad][pad][pad][pad][pad][pad][pad][pad][pad][pad][pad][pad][pad][pad][pad][pad][pad][pad][pad][pad][pad][pad][pad][pad][pad][pad][pad][pad][pad][pad][pad][pad][pad][pad][pad][pad][pad][pad][pad][pad][pad][pad][pad][pad][pad][pad][pad][pad][pad][pad][pad][pad][pad][pad][pad][pad][pad][pad][pad][pad][pad][pad][pad][pad][pad][pad][pad][pad][pad][pad][pad][pad][pad][pad][pad][pad][pad][pad][pad][pad][pad][pad][pad][pad][pad][pad][pad][pad][pad][pad][pad][pad][pad][pad][pad][pad][pad][pad][pad][pad][pad][pad][pad][pad][pad][pad][pad][pad][pad][pad][pad][pad][pad][pad][pad][pad][pad][pad][pad][pad][pad][pad][pad][pad][pad][pad][pad][pad][pad][pad][pad][pad][pad][pad][pad][pad][pad][pad][pad][pad][pad][pad][pad][pad][pad][pad][pad][pad][pad][pad][pad][pad][pad][pad][pad][pad][pad][pad][pad][pad][pad][pad][pad][pad][pad][pad][pad][pad][pad][pad][pad][pad][pad][pad][pad][pad][pad][pad][pad][pad][pad][pad][pad][pad][pad][pad][pad][pad][pad][pad][pad][pad][pad][pad][pad][pad][pad][pad][pad][pad][pad][pad][pad][pad][pad][pad][pad][pad][pad][pad][pad][pad][pad][pad][pad][pad][pad][pad][pad][pad][pad][pad][pad][pad][pad][pad][pad][pad][pad][pad][pad][pad][pad][pad][pad][pad][pad][pad][pad][pad][pad][pad][pad][pad][pad][pad][pad][pad][pad][pad][pad][pad][pad][pad][pad][pad][pad][pad][pad][pad][pad][pad][pad][pad][pad][pad][pad][pad][pad][pad][pad][pad][pad][pad][pad][pad][pad][pad][pad][pad][pad][pad][pad][pad][pad][pad][pad][pad][pad][pad][pad][pad][pad][pad][pad][pad][pad][pad][pad][pad][pad][pad][pad][pad][pad][pad][pad][pad][pad][pad][pad][pad][pad][pad][pad][pad][pad][pad][pad][pad][pad][pad][pad][pad][pad][pad][pad][pad][pad][pad][pad][pad][pad][pad][pad][pad][pad][pad][pad][pad][pad][pad][pad][pad][pad][pad][pad][pad][pad][pad][pad][pad][pad][pad][pad][pad][pad][pad][pad][pad][pad][pad][pad][pad][pad][pad][pad][pad][pad][pad][pad][pad][pad][pad][pad][pad][pad][pad][pad][pad][pad][pad][pad][pad][pad][pad][pad][pad][pad][pad][pad][pad][pad][pad][pad][pad][pad][pad][pad][pad][pad][pad][pad][pad][pad][pad][pad][pad][pad][pad][pad][pad][pad][pad][pad][pad][pad][pad][pad][pad][pad][pad][pad][pad][pad][pad][pad][pad][pad][pad][pad][pad][pad][pad][pad][pad][pad][pad][pad][pad][pad][pad][pad][pad][pad][pad][pad][pad][pad][pad][pad][pad][pad][pad][pad][pad][pad][pad][pad][pad][pad][pad][pad][pad][pad][pad][pad][pad][pad][pad][pad][pad][pad][pad][pad][pad][pad][pad][pad][pad][pad][pad][pad][pad][pad][pad][pad][pad][pad][pad][pad][pad][pad][pad][pad][pad][pad][pad][pad][pad][pad][pad][pad][pad][pad][pad][pad][pad][pad][pad][pad][pad][pad][pad][pad][pad][pad][pad][pad][pad][pad][pad][pad][pad][pad][pad][pad][pad][pad][pad][pad][pad][pad][pad][pad][pad][pad][pad][pad][pad][pad][pad][pad][pad][pad][pad][pad][pad][pad][pad][pad][pad][pad][pad][pad][pad][pad][pad][pad][pad][pad][pad][pad][pad][pad][pad][pad][pad][pad][pad][pad][pad][pad][pad][pad][pad][pad][pad][pad][pad][pad][pad][pad][pad][pad][pad][pad][pad][pad][pad][pad][pad][pad][pad][pad][pad][pad][pad][pad][pad][pad][pad][pad][pad][pad][pad][pad][pad][pad][pad][pad][pad][pad][pad][pad][pad][pad][pad][pad][pad][pad][pad][pad][pad][pad][pad][pad][pad][pad][pad][pad][pad][pad][pad][pad][pad][pad][pad][pad][pad][pad][pad][pad][pad][pad][pad][pad][pad][pad][pad][pad][pad][pad][pad][pad][pad][pad][pad][pad][pad][pad][pad][pad][pad][pad][pad][pad][pad][pad][pad][pad][pad][pad][pad][pad][pad][pad][pad][pad][pad][pad][pad][pad][pad][pad][pad][pad][pad][pad][pad][pad][pad][pad][pad][pad][pad][pad][pad][pad][pad][pad][pad][pad][pad][pad][pad][pad][pad][pad][pad][pad][pad][pad][pad][pad][pad][pad][pad][pad][pad][pad][pad][pad][pad][pad][pad][pad][pad][pad][pad][pad][pad][pad][pad][pad][pad][pad][pad][pad][pad][pad][pad][pad][pad][pad][pad][pad][pad][pad][pad][pad][pad][pad][pad][pad][pad][pad][pad][pad][pad][pad][pad][pad][pad][pad][pad][pad][pad][pad][pad][pad][pad][pad][pad][pad][pad][pad][pad][pad][pad][pad][pad][pad][pad][pad][pad][pad][pad][pad][pad][pad][pad][pad][pad][pad][pad][pad][pad][pad][pad][pad][pad][pad][pad][pad][pad][pad][pad][pad][pad][pad][pad][pad][pad][pad][pad][pad][pad][pad][pad][pad][pad][pad][pad][pad][pad][pad][pad][pad][pad][pad][pad][pad][pad][pad][pad][pad][pad][pad][pad][pad][pad][pad][pad][pad][pad][pad][pad][pad][pad][pad][pad][pad][pad][pad][pad][pad][pad][pad][pad][pad][pad][pad][pad][pad][pad][pad][pad][pad][pad][pad][pad][pad][pad][pad][pad][pad][pad][pad][pad][pad][pad][pad][pad][pad][pad][pad][pad][pad][pad][pad][pad][pad][pad][pad][pad][pad][pad][pad][pad][pad][pad][pad][pad][pad][pad][pad][pad][pad][pad][pad][pad][pad][pad][pad][pad][pad][pad][pad][pad][pad][pad][pad][pad][pad][pad][pad][pad][pad][pad][pad][pad][pad][pad][pad][pad][pad][pad][pad][pad][pad][pad][pad][pad][pad][pad][pad][pad][pad][pad][pad][pad][pad][pad][pad][pad][pad][pad][pad][pad][pad][pad][pad][pad][pad][pad][pad][pad][pad][pad][pad][pad][pad][pad][pad][pad][pad][pad][pad][pad][pad][pad][pad][pad][pad][pad][pad][pad][pad][pad][pad][pad][pad][pad][pad][pad][pad][pad][pad][pad][pad][pad][pad][pad][pad][pad][pad][pad][pad][pad][pad][pad][pad][pad][pad][pad][pad][pad][pad][pad][pad][pad][pad][pad][pad][pad][pad][pad][pad][pad][pad][pad][pad][pad][pad][pad][pad][pad][pad][pad][pad][pad][pad][pad][pad][pad][pad][pad][pad][pad][pad][pad][pad][pad][pad][pad][pad][pad][pad][pad][pad][pad][pad][pad][pad][pad][pad][pad][pad][pad][pad][pad][pad][pad][pad][pad][pad][pad][pad][pad][pad][pad][pad][pad][pad][pad][pad][pad][pad][pad][pad][pad][pad][pad][pad][pad][pad][pad][pad][pad][pad][pad][pad][pad][pad][pad][pad][pad][pad][pad][pad][pad][pad][pad][pad][pad][pad][pad][pad][pad][pad][pad][pad][pad][pad][pad][pad][pad][pad][pad][pad][pad][pad][pad][pad][pad][pad][pad][pad][pad][pad][pad][pad][pad][pad][pad][pad][pad][pad][pad][pad][pad][pad][pad][pad][pad][pad][pad][pad][pad][pad][pad][pad][pad][pad][pad][pad][pad][pad][pad][pad][pad][pad][pad][pad][pad][pad][pad][pad][pad][pad][pad][pad][pad][pad][pad][pad][pad][pad][pad][pad][pad][pad][pad][pad][pad][pad][pad][pad][pad][pad][pad][pad][pad][pad][pad][pad][pad][pad][pad][pad][pad][pad][pad][pad][pad][pad][pad][pad][pad][pad][pad][pad][pad][pad][pad][pad][pad][pad][pad][pad][pad][pad][pad][pad][pad][pad][pad][pad][pad][pad][pad][pad][pad][pad][pad][pad][pad][pad][pad][pad][pad][pad][pad][pad][pad][pad][pad][pad][pad][pad][pad][pad][pad][pad][pad][pad][pad][pad][pad][pad][pad][pad][pad][pad][pad][pad][pad][pad][pad][pad][pad][pad][pad][pad][pad][pad][pad][pad][pad][pad][pad][pad][pad][pad][pad][pad][pad][pad][pad][pad][pad][pad][pad][pad][pad][pad][pad][pad][pad][pad][pad][pad][pad][pad][pad][pad][pad][pad][pad][pad][pad][pad][pad][pad][pad][pad][pad][pad][pad][pad][pad][pad][pad][pad][pad][pad][pad][pad][pad][pad][pad][pad][pad][pad][pad][pad][pad][pad][pad][pad][pad][pad][pad][pad][pad][pad][pad][pad][pad][pad][pad][pad][pad][pad][pad][pad][pad][pad][pad][pad][pad][pad][pad][pad][pad][pad][pad][pad][pad][pad][pad][pad][pad][pad][pad][pad][pad][pad][pad][pad][pad][pad][pad][pad][pad][pad][pad][pad][pad][pad][pad][pad][pad][pad][pad][pad][pad][pad][pad][pad][pad][pad][pad][pad][pad][pad][pad][pad][pad][pad][pad][pad][pad][pad][pad][pad][pad][pad][pad][pad][pad][pad][pad][pad][pad][pad][pad][pad][pad][pad][pad][pad][pad][pad][pad][pad][pad][pad][pad][pad][pad][pad][pad][pad][pad][pad][pad][pad][pad][pad][pad][pad][pad][pad][pad][pad][pad][pad][pad][pad][pad][pad][pad][pad][pad][pad][pad][pad][pad][pad][pad][pad][pad][pad][pad][pad][pad][pad][pad][pad][pad][pad][pad][pad][pad][pad][pad][pad][pad][pad][pad][pad][pad][pad][pad][pad][pad][pad][pad][pad][pad][pad][pad][pad][pad][pad][pad][pad][pad][pad][pad][pad][pad][pad][pad][pad][pad][pad][pad][pad][pad][pad][pad][pad][pad][pad][pad][pad][pad][pad][pad][pad][pad][pad][pad][pad][pad][pad][pad][pad][pad][pad][pad][pad][pad][pad][pad][pad][pad][pad][pad][pad][pad][pad][pad][pad][pad][pad][pad][pad][pad][pad][pad][pad][pad][pad][pad][pad][pad][pad][pad][pad][pad][pad][pad][pad][pad][pad][pad][pad][pad][pad][pad][pad][pad][pad][pad][pad][pad][pad][pad][pad][pad][pad][pad][pad][pad][pad][pad][pad][pad][pad][pad][pad][pad][pad][pad][pad][pad][pad][pad][pad][pad][pad][pad][pad][pad][pad][pad][pad][pad][pad][pad][pad][pad][pad][pad][pad][pad][pad][pad][pad][pad][pad][pad][pad][pad][pad][pad][pad][pad][pad][pad][pad][pad][pad][pad][pad][pad][pad][pad][pad][pad][pad][pad][pad][pad][pad][pad][pad][pad][pad][pad][pad][pad][pad][pad][pad][pad][pad][pad][pad][pad][pad][pad][pad][pad][pad][pad][pad][pad][pad][pad][pad][pad][pad][pad][pad][pad][pad][pad][pad][pad][pad][pad][pad][pad][pad][pad][pad][pad][pad][pad][pad][pad][pad][pad][pad][pad][pad][pad][pad][pad][pad][pad][pad][pad][pad][pad][pad][pad][pad][pad][pad][pad][pad][pad][pad][pad][pad][pad][pad][pad][pad][pad][pad][pad][pad][pad][pad][pad][pad][pad][pad][pad][pad][pad][pad][pad][pad][pad][pad][pad][pad][pad][pad][pad][pad][pad][pad][pad][pad][pad][pad][pad][pad][pad][pad][pad][pad][pad][pad][pad][pad][pad][pad][pad][pad][pad][pad][pad][pad][pad][pad][pad][pad][pad][pad][pad][pad][pad][pad][pad][pad][pad][pad][pad][pad][pad][pad][pad][pad][pad][pad][pad][pad][pad][pad][pad][pad][pad][pad][pad][pad][pad][pad][pad][pad][pad][pad][pad][pad][pad][pad][pad][pad][pad][pad][pad][pad][pad][pad][pad][pad][pad][pad][pad][pad][pad][pad][pad][pad][pad][pad][pad][pad][pad][pad][pad][pad][pad][pad][pad][pad][pad][pad][pad][pad][pad][pad][pad][pad][pad][pad][pad][pad][pad][pad][pad][pad][pad][pad][pad][pad][pad][pad][pad][pad][pad][pad][pad][pad][pad][pad][pad][pad][pad][pad][pad][pad][pad][pad][pad][pad][pad][pad][pad][pad][pad][pad][pad][pad][pad][pad][pad][pad][pad][pad][pad][pad][pad][pad][pad][pad][pad][pad][pad][pad][pad][pad][pad][pad][pad][pad][pad][pad][pad][pad][pad][pad][pad][pad][pad][pad][pad][pad][pad][pad][pad][pad][pad][pad][pad][pad][pad][pad][pad][pad][pad][pad][pad][pad][pad][pad][pad][pad][pad][pad][pad][pad][pad][pad][pad][pad][pad][pad][pad][pad][pad][pad][pad][pad][pad][pad][pad][pad][pad][pad][pad][pad][pad][pad][pad][pad][pad][pad][pad][pad][pad][pad][pad][pad][pad][pad][pad][pad][pad][pad][pad][pad][pad][pad][pad][pad][pad][pad][pad][pad][pad][pad][pad][pad][pad][pad][pad][pad][pad][pad][pad][pad][pad][pad][pad][pad][pad][pad][pad][pad][pad][pad][pad][pad][pad][pad][pad][pad][pad][pad][pad][pad][pad][pad][pad][pad][pad][pad][pad][pad][pad][pad][pad][pad][pad][pad][pad][pad][pad][pad][pad][pad][pad][pad][pad][pad][pad][pad][pad][pad][pad][pad][pad][pad][pad][pad][pad][pad][pad][pad][pad][pad][pad][pad][pad][pad][pad][pad][pad][pad][pad][pad][pad][pad][pad][pad][pad][pad][pad][pad][pad][pad][pad][pad][pad][pad][pad][pad][pad][pad][pad][pad][pad][pad][pad][pad][pad][pad][pad][pad][pad][pad][pad][pad][pad][pad][pad][pad][pad][pad][pad][pad][pad][pad][pad][pad][pad][pad][pad][pad][pad][pad][pad][pad][pad][pad][pad][pad][pad][pad][pad][pad][pad][pad][pad][pad][pad][pad][pad][pad][pad][pad][pad][pad][pad][pad][pad][pad][pad][pad][pad][pad][pad][pad][pad][pad][pad][pad][pad][pad][pad][pad][pad][pad][pad][pad][pad][pad][pad][pad][pad][pad][pad][pad][pad][pad][pad][pad][pad][pad][pad][pad][pad][pad][pad][pad][pad][pad][pad][pad][pad][pad][pad][pad][pad][pad][pad][pad][pad][pad][pad][pad][pad][pad][pad][pad][pad][pad][pad][pad][pad][pad][pad][pad][pad][pad][pad][pad][pad][pad][pad][pad][pad][pad][pad][pad][pad][pad][pad][pad][pad][pad][pad][pad][pad][pad][pad][pad][pad][pad][pad][pad][pad][pad][pad][pad][pad][pad][pad][pad][pad][pad][pad][pad][pad][pad][pad][pad][pad][pad][pad][pad][pad][pad][pad][pad][pad][pad][pad][pad][pad][pad][pad][pad][pad][pad][pad][pad][pad][pad][pad][pad][pad][pad][pad][pad][pad][pad][pad][pad][pad][pad][pad][pad][pad][pad][pad][pad][pad][pad][pad][pad][pad][pad][pad][pad][pad][pad][pad][pad][pad][pad][pad][pad][pad][pad][pad][pad][pad][pad][pad][pad][pad][pad][pad][pad][pad][pad][pad][pad][pad][pad][pad][pad][pad][pad][pad][pad][pad][pad][pad][pad][pad][pad][pad][pad][pad][pad][pad][pad][pad][pad][pad][pad][pad][pad][pad][pad][pad][pad][pad][pad][pad][pad][pad][pad][pad][pad][pad][pad][pad][pad][pad][pad][pad][pad][pad][pad][pad][pad][pad][pad][pad][pad][pad][pad][pad][pad][pad][pad][pad][pad][pad][pad][pad][pad][pad][pad][pad][pad][pad][pad][pad][pad][pad][pad][pad][pad][pad][pad][pad][pad][pad][pad][pad][pad][pad][pad][pad][pad][pad][pad][pad][pad][pad][pad][pad][pad][pad][pad][pad][pad][pad][pad][pad][pad][pad][pad][pad][pad][pad][pad][pad][pad][pad][pad][pad][pad][pad][pad][pad][pad][pad][pad][pad][pad][pad][pad][pad][pad][pad][pad][pad][pad][pad][pad][pad][pad][pad][pad][pad][pad][pad][pad][pad][pad][pad][pad][pad][pad][pad][pad][pad][pad][pad][pad][pad][pad][pad][pad][pad][pad][pad][pad][pad][pad][pad][pad][pad][pad][pad][pad][pad][pad][pad][pad][pad][pad][pad][pad][pad][pad][pad][pad][pad][pad][pad][pad][pad][pad][pad][pad][pad][pad][pad][pad][pad][pad][pad][pad][pad][pad][pad][pad][pad][pad][pad][pad][pad][pad][pad][pad][pad][pad][pad][pad][pad][pad][pad][pad][pad][pad][pad][pad][pad][pad][pad][pad][pad][pad][pad][pad][pad][pad][pad][pad][pad][pad][pad][pad][pad][pad][pad][pad][pad][pad][pad][pad][pad][pad][pad][pad][pad][pad][pad][pad][pad][pad][pad][pad][pad][pad][pad][pad][pad][pad][pad][pad][pad][pad][pad][pad][pad][pad][pad][pad][pad][pad][pad][pad][pad][pad][pad][pad][pad][pad][pad][pad][pad][pad][pad][pad][pad][pad][pad][pad][pad][pad][pad][pad][pad][pad][pad][pad][pad][pad][pad][pad][pad][pad][pad][pad][pad][pad][pad][pad][pad][pad][pad][pad][pad][pad][pad][pad][pad][pad][pad][pad][pad][pad][pad][pad][pad][pad][pad][pad][pad][pad][pad][pad][pad][pad][pad][pad][pad][pad][pad][pad][pad][pad][pad][pad][pad][pad][pad][pad][pad][pad][pad][pad][pad][pad][pad][pad][pad][pad][pad][pad][pad][pad][pad][pad][pad][pad][pad][pad][pad][pad][pad][pad][pad][pad][pad][pad][pad][pad][pad][pad][pad][pad][pad][pad][pad][pad][pad][pad][pad][pad][pad][pad][pad][pad][pad][pad][pad][pad][pad][pad][pad][pad][pad][pad][pad][pad][pad][pad][pad][pad][pad][pad][pad][pad][pad][pad][pad][pad][pad][pad][pad][pad][pad][pad][pad][pad][pad][pad][pad][pad][pad][pad][pad][pad][pad][pad][pad][pad][pad][pad][pad][pad][pad][pad][pad][pad][pad][pad][pad][pad][pad][pad][pad][pad][pad][pad][pad][pad][pad][pad][pad][pad][pad][pad][pad][pad][pad][pad][pad][pad][pad][pad][pad][pad][pad][pad][pad][pad][pad][pad][pad][pad][pad][pad][pad][pad][pad][pad][pad][pad][pad][pad][pad][pad][pad][pad][pad][pad][pad][pad][pad][pad][pad][pad][pad][pad][pad][pad][pad][pad][pad][pad][pad][pad][pad][pad][pad][pad][pad][pad][pad][pad][pad][pad][pad][pad][pad][pad][pad][pad][pad][pad][pad][pad][pad][pad][pad][pad][pad][pad][pad][pad][pad][pad][pad][pad][pad][pad][pad][pad][pad][pad][pad][pad][pad][pad][pad][pad][pad][pad][pad][pad][pad][pad][pad][pad][pad][pad][pad][pad][pad][pad][pad][pad][pad][pad][pad][pad][pad][pad][pad][pad][pad][pad][pad][pad][pad][pad][pad][pad][pad][pad][pad][pad][pad][pad][pad][pad][pad][pad][pad][pad][pad][pad][pad][pad][pad][pad][pad][pad][pad][pad][pad][pad][pad][pad][pad][pad][pad][pad][pad][pad][pad][pad][pad][pad][pad][pad][pad][pad][pad][pad][pad][pad][pad][pad][pad][pad][pad][pad][pad][pad][pad][pad][pad][pad][pad][pad][pad][pad][pad][pad][pad][pad][pad][pad][pad][pad][pad][pad][pad][pad][pad][pad][pad][pad][pad][pad][pad][pad][pad][pad][pad][pad][pad][pad][pad][pad][pad][pad][pad][pad][pad][pad][pad][pad][pad][pad][pad][pad][pad][pad][pad][pad][pad][pad][pad][pad][pad][pad][pad][pad][pad][pad][pad][pad][pad][pad][pad][pad][pad][pad][pad][pad][pad][pad][pad][pad][pad][pad][pad][pad][pad][pad][pad][pad][pad][pad][pad][pad][pad][pad][pad][pad][pad][pad][pad][pad][pad][pad][pad][pad][pad][pad][pad][pad][pad][pad][pad][pad][pad][pad][pad][pad][pad][pad][pad][pad][pad][pad][pad][pad][pad][pad][pad][pad][pad][pad][pad][pad][pad][pad][pad][pad][pad][pad][pad][pad][pad][pad][pad][pad][pad][pad][pad][pad][pad][pad][pad][pad][pad][pad][pad][pad][pad][pad][pad][pad][pad][pad][pad][pad][pad][pad][pad][pad][pad][pad][pad][pad][pad][pad][pad][pad][pad][pad][pad][pad][pad][pad][pad][pad][pad][pad][pad][pad][pad][pad][pad][pad][pad][pad][pad][pad][pad][pad][pad][pad][pad][pad][pad][pad][pad][pad][pad][pad][pad][pad][pad][pad][pad][pad][pad][pad][pad][pad][pad][pad][pad][pad][pad][pad][pad][pad][pad][pad][pad][pad][pad][pad][pad][pad][pad][pad][pad][pad][pad][pad][pad][pad][pad][pad][pad][pad][pad][pad][pad][pad][pad][pad][pad][pad][pad][pad][pad][pad][pad][pad][pad][pad][pad][pad][pad][pad][pad][pad][pad][pad][pad][pad][pad][pad][pad][pad][pad][pad][pad][pad][pad][pad][pad][pad][pad][pad][pad][pad][pad][pad][pad][pad][pad][pad][pad][pad][pad][pad][pad][pad][pad][pad][pad][pad][pad][pad][pad][pad][pad][pad][pad][pad][pad][pad][pad][pad][pad][pad][pad][pad][pad][pad][pad][pad][pad][pad][pad][pad][pad][pad][pad][pad][pad][pad][pad][pad][pad][pad][pad][pad][pad][pad][pad][pad][pad][pad][pad][pad][pad][pad][pad][pad][pad][pad][pad][pad][pad][pad][pad][pad][pad][pad][pad][pad][pad][pad][pad][pad][pad][pad][pad][pad][pad][pad][pad][pad][pad][pad][pad][pad][pad][pad][pad][pad][pad][pad][pad][pad][pad][pad][pad][pad][pad][pad][pad][pad][pad][pad][pad][pad][pad][pad][pad][pad][pad][pad][pad][pad][pad][pad][pad][pad][pad][pad][pad][pad][pad][pad][pad][pad][pad][pad][pad][pad][pad][pad][pad][pad][pad][pad][pad][pad][pad][pad][pad][pad][pad][pad][pad][pad][pad][pad][pad][pad][pad][pad][pad][pad][pad][pad][pad][pad][pad][pad][pad][pad][pad][pad][pad][pad][pad][pad][pad][pad][pad][pad][pad][pad][pad][pad][pad][pad][pad][pad][pad][pad][pad][pad][pad][pad][pad][pad][pad][pad][pad][pad][pad][pad][pad][pad][pad][pad][pad][pad][pad][pad][pad][pad][pad][pad][pad][pad][pad][pad][pad][pad][pad][pad][pad][pad][pad][pad][pad][pad][pad][pad][pad][pad][pad][pad][pad][pad][pad][pad][pad][pad][pad][pad][pad][pad][pad][pad][pad][pad][pad][pad][pad][pad][pad][pad][pad][pad][pad][pad][pad][pad][pad][pad][pad][pad][pad][pad][pad][pad][pad][pad][pad][pad][pad][pad][pad][pad][pad][pad][pad][pad][pad][pad][pad][pad][pad][pad][pad][pad][pad][pad][pad][pad][pad][pad][pad][pad][pad][pad][pad][pad][pad][pad][pad][pad][pad][pad][pad][pad][pad][pad][pad][pad][pad][pad][pad][pad][pad][pad][pad][pad][pad][pad][pad][pad][pad][pad][pad][pad][pad][pad][pad][pad][pad][pad][pad][pad][pad][pad][pad][pad][pad][pad][pad][pad][pad][pad][pad][pad][pad][pad][pad][pad][pad][pad][pad][pad][pad][pad][pad][pad][pad][pad][pad][pad][pad][pad][pad][pad][pad][pad][pad][pad][pad][pad][pad][pad][pad][pad][pad][pad][pad][pad][pad][pad][pad][pad][pad][pad][pad][pad][pad][pad][pad][pad][pad][pad][pad][pad][pad][pad][pad][pad][pad][pad][pad][pad][pad][pad][pad][pad][pad][pad][pad][pad][pad][pad][pad][pad][pad][pad][pad][pad][pad][pad][pad][pad][pad][pad][pad][pad][pad][pad][pad][pad][pad][pad][pad][pad][pad][pad][pad][pad][pad][pad][pad][pad][pad][pad][pad][pad][pad][pad][pad][pad][pad][pad][pad][pad][pad][pad][pad][pad][pad][pad][pad][pad][pad][pad][pad][pad][pad][pad][pad][pad][pad][pad][pad][pad][pad][pad][pad][pad][pad][pad][pad][pad][pad][pad][pad][pad][pad][pad][pad][pad][pad][pad][pad][pad][pad][pad][pad][pad][pad][pad][pad][pad][pad][pad][pad][pad][pad][pad][pad][pad][pad][pad][pad][pad][pad][pad][pad][pad][pad][pad][pad][pad][pad][pad][pad][pad][pad][pad][pad][pad][pad][pad][pad][pad][pad][pad][pad][pad][pad][pad][pad][pad][pad][pad][pad][pad][pad][pad][pad][pad][pad][pad][pad][pad][pad][pad][pad][pad][pad][pad][pad][pad][pad][pad][pad][pad][pad][pad][pad][pad][pad][pad][pad][pad][pad][pad][pad][pad][pad][pad][pad][pad][pad][pad][pad][pad][pad][pad][pad][pad][pad][pad][pad][pad][pad][pad][pad][pad][pad][pad][pad][pad][pad][pad][pad][pad][pad][pad][pad][pad][pad][pad][pad][pad][pad][pad][pad][pad][pad][pad][pad][pad][pad][pad][pad][pad][pad][pad][pad][pad][pad][pad][pad][pad][pad][pad][pad][pad][pad][pad][pad][pad][pad][pad][pad][pad][pad][pad][pad][pad][pad][pad][pad][pad][pad][pad][pad][pad][pad][pad][pad][pad][pad][pad][pad][pad][pad][pad][pad][pad][pad][pad][pad][pad][pad][pad][pad][pad][pad][pad][pad][pad][pad][pad][pad][pad][pad][pad][pad][pad][pad][pad][pad][pad][pad][pad][pad][pad][pad][pad][pad][pad][pad][pad][pad][pad][pad][pad][pad][pad][pad][pad][pad][pad][pad][pad][pad][pad][pad][pad][pad][pad][pad][pad][pad][pad][pad][pad][pad][pad][pad][pad][pad][pad][pad][pad][pad][pad][pad][pad][pad][pad][pad][pad][pad][pad][pad][pad][pad][pad][pad][pad][pad][pad][pad][pad][pad][pad][pad][pad][pad][pad][pad][pad][pad][pad][pad][pad][pad][pad][pad][pad][pad][pad][pad][pad][pad][pad][pad][pad][pad][pad][pad][pad][pad][pad][pad][pad][pad][pad][pad][pad][pad][pad][pad][pad][pad][pad][pad][pad][pad][pad][pad][pad][pad][pad][pad][pad][pad][pad][pad][pad][pad][pad][pad][pad][pad][pad][pad][pad][pad][pad][pad][pad][pad][pad][pad][pad][pad][pad][pad][pad][pad][pad][pad][pad][pad][pad][pad][pad][pad][pad][pad][pad][pad][pad][pad][pad][pad][pad][pad][pad][pad][pad][pad][pad][pad][pad][pad][pad][pad][pad][pad][pad][pad][pad][pad][pad][pad][pad][pad][pad][pad][pad][pad][pad][pad][pad][pad][pad][pad][pad][pad][pad][pad][pad][pad][pad][pad][pad][pad][pad][pad][pad][pad][pad][pad][pad][pad][pad][pad][pad][pad][pad][pad][pad][pad][pad][pad][pad][pad][pad][pad][pad][pad][pad][pad][pad][pad][pad][pad][pad][pad][pad][pad][pad][pad][pad][pad][pad][pad][pad][pad][pad][pad][pad][pad][pad][pad][pad][pad][pad][pad][pad][pad][pad][pad][pad][pad][pad][pad][pad][pad][pad][pad][pad][pad][pad][pad][pad][pad][pad][pad][pad][pad][pad][pad][pad][pad][pad][pad][pad][pad][pad][pad][pad][pad][pad][pad][pad][pad][pad][pad][pad][pad][pad][pad][pad][pad][pad][pad][pad][pad][pad][pad][pad][pad][pad][pad][pad][pad][pad][pad][pad][pad][pad][pad][pad][pad][pad][pad][pad][pad][pad][pad][pad][pad][pad][pad][pad][pad][pad][pad][pad][pad][pad][pad][pad][pad][pad][pad][pad][pad][pad][pad][pad][pad][pad][pad][pad][pad][pad][pad][pad][pad][pad][pad][pad][pad][pad][pad][pad][pad][pad][pad][pad][pad][pad][pad][pad][pad][pad][pad][pad][pad][pad][pad][pad][pad][pad][pad][pad][pad][pad][pad][pad][pad][pad][pad][pad][pad][pad][pad][pad][pad][pad][pad][pad][pad][pad][pad][pad][pad][pad][pad][pad][pad][pad][pad][pad][pad][pad][pad][pad][pad][pad][pad][pad][pad][pad][pad][pad][pad][pad][pad][pad][pad][pad][pad][pad][pad][pad][pad][pad][pad][pad][pad][pad][pad][pad][pad][pad][pad][pad][pad][pad][pad][pad][pad][pad][pad][pad][pad][pad][pad][pad][pad][pad][pad][pad][pad][pad][pad][pad][pad][pad][pad][pad][pad][pad][pad][pad][pad][pad][pad][pad][pad][pad][pad][pad][pad][pad][pad][pad][pad][pad][pad][pad][pad][pad][pad][pad][pad][pad][pad][pad][pad][pad][pad][pad][pad][pad][pad][pad][pad][pad][pad][pad][pad][pad][pad][pad][pad][pad][pad][pad][pad][pad][pad][pad][pad][pad][pad][pad][pad][pad][pad][pad][pad][pad][pad][pad][pad][pad][pad][pad][pad][pad][pad][pad][pad][pad][pad][pad][pad][pad][pad][pad][pad][pad][pad][pad][pad][pad][pad][pad][pad][pad][pad][pad][pad][pad][pad][pad][pad][pad][pad][pad][pad][pad][pad][pad][pad][pad][pad][pad][pad][pad][pad][pad][pad][pad][pad][pad][pad][pad][pad][pad][pad][pad][pad][pad][pad][pad][pad][pad][pad][pad][pad][pad][pad][pad][pad][pad][pad][pad][pad][pad][pad][pad][pad][pad][pad][pad][pad][pad][pad][pad][pad][pad][pad][pad][pad][pad][pad][pad][pad][pad][pad][pad][pad][pad][pad][pad][pad][pad][pad][pad][pad][pad][pad][pad][pad][pad][pad][pad][pad][pad][pad][pad][pad][pad][pad][pad][pad][pad][pad][pad][pad][pad][pad][pad][pad][pad][pad][pad][pad][pad][pad][pad][pad][pad][pad][pad][pad][pad][pad][pad][pad][pad][pad][pad][pad][pad][pad][pad][pad][pad][pad][pad][pad][pad][pad][pad][pad][pad][pad][pad][pad][pad][pad][pad][pad][pad][pad][pad][pad][pad][pad][pad][pad][pad][pad][pad][pad][pad][pad][pad][pad][pad][pad][pad][pad][pad][pad][pad][pad][pad][pad][pad][pad][pad][pad][pad][pad][pad][pad][pad][pad][pad][pad][pad][pad][pad][pad][pad][pad][pad][pad][pad][pad][pad][pad][pad][pad][pad][pad][pad][pad][pad][pad][pad][pad][pad][pad][pad][pad][pad][pad][pad][pad][pad][pad][pad][pad][pad][pad][pad][pad][pad][pad][pad][pad][pad][pad][pad][pad][pad][pad][pad][pad][pad][pad][pad][pad][pad][pad][pad][pad][pad][pad][pad][pad][pad][pad][pad][pad][pad][pad][pad][pad][pad][pad][pad][pad][pad][pad][pad][pad][pad][pad][pad][pad][pad][pad][pad][pad][pad][pad][pad][pad][pad][pad][pad][pad][pad][pad][pad][pad][pad][pad][pad][pad][pad][pad][pad][pad][pad][pad][pad][pad][pad][pad][pad][pad][pad][pad][pad][pad][pad][pad][pad][pad][pad][pad][pad][pad][pad][pad][pad][pad][pad][pad][pad][pad][pad][pad][pad][pad][pad][pad][pad][pad][pad][pad][pad][pad][pad][pad][pad][pad][pad][pad][pad][pad][pad][pad][pad][pad][pad][pad][pad][pad][pad][pad][pad][pad][pad][pad][pad][pad][pad][pad][pad][pad][pad][pad][pad][pad][pad][pad][pad][pad][pad][pad][pad][pad][pad][pad][pad][pad][pad][pad][pad][pad][pad][pad][pad][pad][pad][pad][pad][pad][pad][pad][pad][pad][pad][pad][pad][pad][pad][pad][pad][pad][pad][pad][pad][pad][pad][pad][pad][pad][pad][pad][pad][pad][pad][pad][pad][pad][pad][pad][pad][pad][pad][pad][pad][pad][pad][pad][pad][pad][pad][pad][pad][pad][pad][pad][pad][pad][pad][pad][pad][pad][pad][pad][pad][pad][pad][pad][pad][pad][pad][pad][pad][pad][pad][pad][pad][pad][pad][pad][pad][pad][pad][pad][pad][pad][pad][pad][pad][pad][pad][pad][pad][pad][pad][pad][pad][pad][pad][pad][pad][pad][pad][pad][pad][pad][pad][pad][pad][pad][pad][pad][pad][pad][pad][pad][pad][pad][pad][pad][pad][pad][pad][pad][pad][pad][pad][pad][pad][pad][pad][pad][pad][pad][pad][pad][pad][pad][pad][pad][pad][pad][pad][pad][pad][pad][pad][pad][pad][pad][pad][pad][pad][pad][pad][pad][pad][pad][pad][pad][pad][pad][pad][pad][pad][pad][pad][pad][pad][pad][pad][pad][pad][pad][pad][pad][pad][pad][pad][pad][pad][pad][pad][pad][pad][pad][pad][pad][pad][pad][pad][pad][pad][pad][pad][pad][pad][pad][pad][pad][pad][pad][pad][pad][pad][pad][pad][pad][pad][pad][pad][pad][pad][pad][pad][pad][pad][pad][pad][pad][pad][pad][pad][pad][pad][pad][pad][pad][pad][pad][pad][pad][pad][pad][pad][pad][pad][pad][pad][pad][pad][pad][pad][pad][pad][pad][pad][pad][pad][pad][pad][pad][pad][pad][pad][pad][pad][pad][pad][pad][pad][pad][pad][pad][pad][pad][pad][pad][pad][pad][pad][pad][pad][pad][pad][pad][pad][pad][pad][pad][pad][pad][pad][pad][pad][pad][pad][pad][pad][pad][pad][pad][pad][pad][pad][pad][pad][pad][pad][pad][pad][pad][pad][pad][pad][pad][pad][pad][pad][pad][pad][pad][pad][pad][pad][pad][pad][pad][pad][pad][pad][pad][pad][pad][pad][pad][pad][pad][pad][pad][pad][pad][pad][pad][pad][pad][pad][pad][pad][pad][pad][pad][pad][pad][pad][pad][pad][pad][pad][pad][pad][pad][pad][pad][pad][pad][pad][pad][pad][pad][pad][pad][pad][pad][pad][pad][pad][pad][pad][pad][pad][pad][pad][pad][pad][pad][pad][pad][pad][pad][pad][pad][pad][pad][pad][pad][pad][pad][pad][pad][pad][pad][pad][pad][pad][pad][pad][pad][pad][pad][pad][pad][pad][pad][pad][pad][pad][pad][pad][pad][pad][pad][pad][pad][pad][pad][pad][pad][pad][pad][pad][pad][pad][pad][pad][pad][pad][pad][pad][pad][pad][pad][pad][pad][pad][pad][pad][pad][pad][pad][pad][pad][pad][pad][pad][pad][pad][pad][pad][pad][pad][pad][pad][pad][pad][pad][pad][pad][pad][pad][pad][pad][pad][pad][pad][pad][pad][pad][pad][pad][pad][pad][pad][pad][pad][pad][pad][pad][pad][pad][pad][pad][pad][pad][pad][pad][pad][pad][pad][pad][pad][pad][pad][pad][pad][pad][pad][pad][pad][pad][pad][pad][pad][pad][pad][pad][pad][pad][pad][pad][pad][pad][pad][pad][pad][pad][pad][pad][pad][pad][pad][pad][pad][pad][pad][pad][pad][pad][pad][pad][pad][pad][pad][pad][pad][pad][pad][pad][pad][pad][pad][pad][pad][pad][pad][pad][pad][pad][pad][pad][pad][pad][pad][pad][pad][pad][pad][pad][pad][pad][pad][pad][pad][pad][pad][pad][pad][pad][pad][pad][pad][pad][pad][pad][pad][pad][pad][pad][pad][pad][pad][pad][pad][pad][pad][pad][pad][pad][pad][pad][pad][pad][pad][pad][pad][pad][pad][pad][pad][pad][pad][pad][pad][pad][pad][pad][pad][pad][pad][pad][pad][pad][pad][pad][pad][pad][pad][pad][pad][pad][pad][pad][pad][pad][pad][pad][pad][pad][pad][pad][pad][pad][pad][pad][pad][pad][pad][pad][pad][pad][pad][pad][pad][pad][pad][pad][pad][pad][pad][pad][pad][pad][pad][pad][pad][pad][pad][pad][pad][pad][pad][pad][pad][pad][pad][pad][pad][pad][pad][pad][pad][pad][pad][pad][pad][pad][pad][pad][pad][pad][pad][pad][pad][pad][pad][pad][pad][pad][pad][pad][pad][pad][pad][pad][pad][pad][pad][pad][pad][pad][pad][pad][pad][pad][pad][pad][pad][pad][pad][pad][pad][pad][pad][pad][pad][pad][pad][pad][pad][pad][pad][pad][pad][pad][pad][pad][pad][pad][pad][pad][pad][pad][pad][pad][pad][pad][pad][pad][pad][pad][pad][pad][pad][pad][pad][pad][pad][pad][pad][pad][pad][pad][pad][pad][pad][pad][pad][pad][pad][pad][pad][pad][pad][pad][pad][pad][pad][pad][pad][pad][pad][pad][pad][pad][pad][pad][pad][pad][pad][pad][pad][pad][pad][pad][pad][pad][pad][pad][pad][pad][pad][pad][pad][pad][pad][pad][pad][pad][pad][pad][pad][pad][pad][pad][pad][pad][pad][pad][pad][pad][pad][pad][pad][pad][pad][pad][pad][pad][pad][pad][pad][pad][pad][pad][pad][pad][pad][pad][pad][pad][pad][pad][pad][pad][pad][pad][pad][pad][pad][pad][pad][pad][pad][pad][pad][pad][pad][pad][pad][pad][pad][pad][pad][pad][pad][pad][pad][pad][pad][pad][pad][pad][pad][pad][pad][pad][pad][pad][pad][pad][pad][pad][pad][pad][pad][pad][pad][pad][pad][pad][pad][pad][pad][pad][pad][pad][pad][pad][pad][pad][pad][pad][pad][pad][pad][pad][pad][pad][pad][pad][pad][pad][pad][pad][pad][pad][pad][pad][pad][pad][pad][pad][pad][pad][pad][pad][pad][pad][pad][pad][pad][pad][pad][pad][pad][pad][pad][pad][pad][pad][pad][pad][pad][pad][pad][pad][pad][pad][pad][pad][pad][pad][pad][pad][pad][pad][pad][pad][pad][pad][pad][pad][pad][pad][pad][pad][pad][pad][pad][pad][pad][pad][pad][pad][pad][pad][pad][pad][pad][pad][pad][pad][pad][pad][pad][pad][pad][pad][pad][pad][pad][pad][pad][pad][pad][pad][pad][pad][pad][pad][pad][pad][pad][pad][pad][pad][pad][pad][pad][pad][pad][pad][pad][pad][pad][pad][pad][pad][pad][pad][pad][pad][pad][pad][pad][pad][pad][pad][pad][pad][pad][pad][pad][pad][pad][pad][pad][pad][pad][pad][pad][pad][pad][pad][pad][pad][pad][pad][pad][pad][pad][pad][pad][pad][pad][pad][pad][pad][pad][pad][pad][pad][pad][pad][pad][pad][pad][pad][pad][pad][pad][pad][pad][pad][pad][pad][pad][pad][pad][pad][pad][pad][pad][pad][pad][pad][pad][pad][pad][pad][pad][pad][pad][pad][pad][pad][pad][pad][pad][pad][pad][pad][pad][pad][pad][pad][pad][pad][pad][pad][pad][pad][pad][pad][pad][pad][pad][pad][pad][pad][pad][pad][pad][pad][pad][pad][pad][pad][pad][pad][pad][pad][pad][pad][pad][pad][pad][pad][pad][pad][pad][pad][pad][pad][pad][pad][pad][pad][pad][pad][pad][pad][pad][pad][pad][pad][pad][pad][pad][pad][pad][pad][pad][pad][pad][pad][pad][pad][pad][pad][pad][pad][pad][pad][pad][pad][pad][pad][pad][pad][pad][pad][pad][pad][pad][pad][pad][pad][pad][pad][pad][pad][pad][pad][pad][pad][pad][pad][pad][pad][pad][pad][pad][pad][pad][pad][pad][pad][pad][pad][pad][pad][pad][pad][pad][pad][pad][pad][pad][pad][pad][pad][pad][pad][pad][pad][pad][pad][pad][pad][pad][pad][pad][pad][pad][pad][pad][pad][pad][pad][pad][pad][pad][pad][pad][pad][pad][pad][pad][pad][pad][pad][pad][pad][pad][pad][pad][pad][pad][pad][pad][pad][pad][pad][pad][pad][pad][pad][pad][pad][pad][pad][pad][pad][pad][pad][pad][pad][pad][pad][pad][pad][pad][pad][pad][pad][pad][pad][pad][pad][pad][pad][pad][pad][pad][pad][pad][pad][pad][pad][pad][pad][pad][pad][pad][pad][pad][pad][pad][pad][pad][pad][pad][pad][pad][pad][pad][pad][pad][pad][pad][pad][pad][pad][pad][pad][pad][pad][pad][pad][pad][pad][pad][pad][pad][pad][pad][pad][pad][pad][pad][pad][pad][pad][pad][pad][pad][pad][pad][pad][pad][pad][pad][pad][pad][pad][pad][pad][pad][pad][pad][pad][pad][pad][pad][pad][pad][pad][pad][pad][pad][pad][pad][pad][pad][pad][pad][pad][pad][pad][pad][pad][pad][pad][pad][pad][pad][pad][pad][pad][pad][pad][pad][pad][pad][pad][pad][pad][pad][pad][pad][pad][pad][pad][pad][pad][pad][pad][pad][pad][pad][pad][pad][pad][pad][pad][pad][pad][pad][pad][pad][pad][pad][pad][pad][pad][pad][pad][pad][pad][pad][pad][pad][pad][pad][pad][pad][pad][pad][pad][pad][pad][pad][pad][pad][pad][pad][pad][pad][pad][pad][pad][pad][pad][pad][pad][pad][pad][pad][pad][pad][pad][pad][pad][pad][pad][pad][pad][pad][pad][pad][pad][pad][pad][pad][pad][pad][pad][pad][pad][pad][pad][pad][pad][pad][pad][pad][pad][pad][pad][pad][pad][pad][pad][pad][pad][pad][pad][pad][pad][pad][pad][pad][pad][pad][pad][pad][pad][pad][pad][pad][pad][pad][pad][pad][pad][pad][pad][pad][pad][pad][pad][pad][pad][pad][pad][pad][pad][pad][pad][pad][pad][pad][pad][pad][pad][pad][pad][pad][pad][pad][pad][pad][pad][pad][pad][pad][pad][pad][pad][pad][pad][pad][pad][pad][pad][pad][pad][pad][pad][pad][pad][pad][pad][pad][pad][pad][pad][pad][pad][pad][pad][pad][pad][pad][pad][pad][pad][pad][pad][pad][pad][pad][pad][pad][pad][pad][pad][pad][pad][pad][pad][pad][pad][pad][pad][pad][pad][pad][pad][pad][pad][pad][pad][pad][pad][pad][pad][pad][pad][pad][pad][pad][pad][pad][pad][pad][pad][pad][pad][pad][pad][pad][pad][pad][pad][pad][pad][pad][pad][pad][pad][pad][pad][pad][pad][pad][pad][pad][pad][pad][pad][pad][pad][pad][pad][pad][pad][pad][pad][pad][pad][pad][pad][pad][pad][pad][pad][pad][pad][pad][pad][pad][pad][pad][pad][pad][pad][pad][pad][pad][pad][pad][pad][pad][pad][pad][pad][pad][pad][pad][pad][pad][pad][pad][pad][pad][pad][pad][pad][pad][pad][pad][pad][pad][pad][pad][pad][pad][pad][pad][pad][pad][pad][pad][pad][pad][pad][pad][pad][pad][pad][pad][pad][pad][pad][pad][pad][pad][pad][pad][pad][pad][pad][pad][pad][pad][pad][pad][pad][pad][pad][pad][pad][pad][pad][pad][pad][pad][pad][pad][pad][pad][pad][pad][pad][pad][pad][pad][pad][pad][pad][pad][pad][pad][pad][pad][pad][pad][pad][pad][pad][pad][pad][pad][pad][pad][pad][pad][pad][pad][pad][pad][pad][pad][pad][pad][pad][pad][pad][pad][pad][pad][pad][pad][pad][pad][pad][pad][pad][pad][pad][pad][pad][pad][pad][pad][pad][pad][pad][pad][pad][pad][pad][pad][pad][pad][pad][pad][pad][pad][pad][pad][pad][pad][pad][pad][pad][pad][pad][pad][pad][pad][pad][pad][pad][pad][pad][pad][pad][pad][pad][pad][pad][pad][pad][pad][pad][pad][pad][pad][pad][pad][pad][pad][pad][pad][pad][pad][pad][pad][pad][pad][pad][pad][pad][pad][pad][pad][pad][pad][pad][pad][pad][pad][pad][pad][pad][pad][pad][pad][pad][pad][pad][pad][pad][pad][pad][pad][pad][pad][pad][pad][pad][pad][pad][pad][pad][pad][pad][pad][pad][pad][pad][pad][pad][pad][pad][pad][pad][pad][pad][pad][pad][pad][pad][pad][pad][pad][pad][pad][pad][pad][pad][pad][pad][pad][pad][pad][pad][pad][pad][pad][pad][pad][pad][pad][pad][pad][pad][pad][pad][pad][pad][pad][pad][pad][pad][pad][pad][pad][pad][pad][pad][pad][pad][pad][pad][pad][pad][pad][pad][pad][pad][pad][pad][pad][pad][pad][pad][pad][pad][pad][pad][pad][pad][pad][pad][pad][pad][pad][pad][pad][pad][pad][pad][pad][pad][pad][pad][pad][pad][pad][pad][pad][pad][pad][pad][pad][pad][pad][pad][pad][pad][pad][pad][pad][pad][pad][pad][pad][pad][pad][pad][pad][pad][pad][pad][pad][pad][pad][pad][pad][pad][pad][pad][pad][pad][pad][pad][pad][pad][pad][pad][pad][pad][pad][pad][pad][pad][pad][pad][pad][pad][pad][pad][pad][pad][pad][pad][pad][pad][pad][pad][pad][pad][pad][pad][pad][pad][pad][pad][pad][pad][pad][pad][pad][pad][pad][pad][pad][pad][pad][pad][pad][pad][pad][pad][pad][pad][pad][pad][pad][pad][pad][pad][pad][pad][pad][pad][pad][pad][pad][pad][pad][pad][pad][pad][pad][pad][pad][pad][pad][pad][pad][pad][pad][pad][pad][pad][pad][pad][pad][pad][pad][pad][pad][pad][pad][pad][pad][pad][pad][pad][pad][pad][pad][pad][pad][pad][pad][pad][pad][pad][pad][pad][pad][pad][pad][pad][pad][pad][pad][pad][pad][pad][pad][pad][pad][pad][pad][pad][pad][pad][pad][pad][pad][pad][pad][pad][pad][pad][pad][pad][pad][pad][pad][pad][pad][pad][pad][pad][pad][pad][pad][pad][pad][pad][pad][pad][pad][pad][pad][pad][pad][pad][pad][pad][pad][pad][pad][pad][pad][pad][pad][pad][pad][pad][pad][pad][pad][pad][pad][pad][pad][pad][pad][pad][pad][pad][pad][pad][pad][pad][pad][pad][pad][pad][pad][pad][pad][pad][pad][pad][pad][pad][pad][pad][pad][pad][pad][pad][pad][pad][pad][pad][pad][pad][pad][pad][pad][pad][pad][pad][pad][pad][pad][pad][pad][pad][pad][pad][pad][pad][pad][pad][pad][pad][pad][pad][pad][pad][pad][pad][pad][pad][pad][pad][pad][pad][pad][pad][pad][pad][pad][pad][pad][pad][pad][pad][pad][pad][pad][pad][pad][pad][pad][pad][pad][pad][pad][pad][pad][pad][pad][pad][pad][pad][pad][pad][pad][pad][pad][pad][pad][pad][pad][pad][pad][pad][pad][pad][pad][pad][pad][pad][pad][pad][pad][pad][pad][pad][pad][pad][pad][pad][pad][pad][pad][pad][pad][pad][pad][pad][pad][pad][pad][pad][pad][pad][pad][pad][pad][pad][pad][pad][pad][pad][pad][pad][pad][pad][pad][pad][pad][pad][pad][pad][pad][pad][pad][pad][pad][pad][pad][pad][pad][pad][pad][pad][pad][pad][pad][pad][pad][pad][pad][pad][pad][pad][pad][pad][pad][pad][pad][pad][pad][pad][pad][pad][pad][pad][pad][pad][pad][pad][pad][pad][pad][pad][pad][pad][pad][pad][pad][pad][pad][pad][pad][pad][pad][pad][pad][pad][pad][pad][pad][pad][pad][pad][pad][pad][pad][pad][pad][pad][pad][pad][pad][pad][pad][pad][pad][pad][pad][pad][pad][pad][pad][pad][pad][pad][pad][pad][pad][pad][pad][pad][pad][pad][pad][pad][pad][pad][pad][pad][pad][pad][pad][pad][pad][pad][pad][pad][pad][pad][pad][pad][pad][pad][pad][pad][pad][pad][pad][pad][pad][pad][pad][pad][pad][pad][pad][pad][pad][pad][pad][pad][pad][pad][pad][pad][pad][pad][pad][pad][pad][pad][pad][pad][pad][pad][pad][pad][pad][pad][pad][pad][pad][pad][pad][pad][pad][pad][pad][pad][pad][pad][pad][pad][pad][pad][pad][pad][pad][pad][pad][pad][pad][pad][pad][pad][pad][pad][pad][pad][pad][pad][pad][pad][pad][pad][pad][pad][pad][pad][pad][pad][pad][pad][pad][pad][pad][pad][pad][pad][pad][pad][pad][pad][pad][pad][pad][pad][pad][pad][pad][pad][pad][pad][pad][pad][pad][pad][pad][pad][pad][pad][pad][pad][pad][pad][pad][pad][pad][pad][pad][pad][pad][pad][pad][pad][pad][pad][pad][pad][pad][pad][pad][pad][pad][pad][pad][pad][pad][pad][pad][pad][pad][pad][pad][pad][pad][pad][pad][pad][pad][pad][pad][pad][pad][pad][pad][pad][pad][pad][pad][pad][pad][pad][pad][pad][pad][pad][pad][pad][pad][pad][pad][pad][pad][pad][pad][pad][pad][pad][pad][pad][pad][pad][pad][pad][pad][pad][pad][pad][pad][pad][pad][pad][pad][pad][pad][pad][pad][pad][pad][pad][pad][pad][pad][pad][pad][pad][pad][pad][pad][pad][pad][pad][pad][pad][pad][pad][pad][pad][pad][pad][pad][pad][pad][pad][pad][pad][pad][pad][pad][pad][pad][pad][pad][pad][pad][pad][pad][pad][pad][pad][pad][pad][pad][pad][pad][pad][pad][pad][pad][pad][pad][pad][pad][pad][pad][pad]иссягнксстна\n",
      "Epoch #18 | TrainLoss: 0.84099 | Generated word: Меликся\n",
      "Epoch #20 | TrainLoss: 0.81156 | Generated word: I\n",
      "Epoch #22 | TrainLoss: 0.87396 | Generated word: Tesy\n",
      "Epoch #24 | TrainLoss: 0.86584 | Generated word: Ova\n",
      "Epoch #26 | TrainLoss: 0.81029 | Generated word: Dyzigilistorollirecor\n",
      "Epoch #28 | TrainLoss: 0.78731 | Generated word: Besobua\n",
      "Epoch #30 | TrainLoss: 0.81061 | Generated word: Y\n"
     ]
    }
   ],
   "source": [
    "the_losses = train_model(\n",
    "    model=LangModel,\n",
    "    loss = loss,\n",
    "    the_optim=the_optim,\n",
    "    epoch=epoch,\n",
    "    loader = train_loader    \n",
    ")"
   ]
  },
  {
   "cell_type": "code",
   "execution_count": 403,
   "id": "9bb46cec",
   "metadata": {},
   "outputs": [],
   "source": [
    "def plot_losses(loss_list):\n",
    "    some_figure = plt.figure(figsize = (10,5),facecolor = 'skyblue')\n",
    "    some_ax = some_figure.add_subplot()\n",
    "    some_ax.grid(linestyle = '--',color = 'blue',alpha = 0.3)\n",
    "    some_ax.plot(loss_list,color = 'red')\n",
    "    some_ax.set_xlabel(f'Loss over batches')\n",
    "    some_ax.set_ylabel(f'Loss function')\n",
    "    return some_ax"
   ]
  },
  {
   "cell_type": "code",
   "execution_count": 404,
   "id": "f67c8386",
   "metadata": {},
   "outputs": [
    {
     "data": {
      "text/plain": [
       "<Axes: xlabel='Loss over batches', ylabel='Loss function'>"
      ]
     },
     "execution_count": 404,
     "metadata": {},
     "output_type": "execute_result"
    },
    {
     "data": {
      "image/png": "[encoded data removed]",
      "text/plain": [
       "<Figure size 1000x500 with 1 Axes>"
      ]
     },
     "metadata": {},
     "output_type": "display_data"
    }
   ],
   "source": [
    "plot_losses(the_losses)"
   ]
  },
  {
   "cell_type": "markdown",
   "id": "18054f0a",
   "metadata": {},
   "source": [
    "<p class=\"task\" id=\"5\"></p>\n",
    "\n",
    "5\\. Считайте файл `pets_ru_en.csv`, приведите имена питомцев к нижнем регистру. Создайте Vocab на основе загруженных данных (токен - __буква__). Добавьте в словарь специальные токены `<PAD>`, `<SOS>`, `<EOS>`, `<RU>`, `<EN>`. Выведите на экран количество токенов в полученном словаре. \n",
    "\n",
    "Модифицируйте датасет `PetsGenDataset` таким образом, чтобы в начало каждого примера добавлялся токен `<RU>`, если это имя питомца на русском, и `<EN>`, если имя на английском. Создайте объект `DataLoader` с размером батча 128 и включенным `shuffle`. Выведите на экран размер `x` и `y` из одного батча.\n",
    "\n",
    "- [ ] Проверено на семинаре"
   ]
  },
  {
   "cell_type": "code",
   "execution_count": 405,
   "id": "9c85a01e",
   "metadata": {},
   "outputs": [
    {
     "name": "stdout",
     "output_type": "stream",
     "text": [
      "(2913, 2)\n"
     ]
    },
    {
     "data": {
      "text/html": [
       "<div>\n",
       "<style scoped>\n",
       "    .dataframe tbody tr th:only-of-type {\n",
       "        vertical-align: middle;\n",
       "    }\n",
       "\n",
       "    .dataframe tbody tr th {\n",
       "        vertical-align: top;\n",
       "    }\n",
       "\n",
       "    .dataframe thead th {\n",
       "        text-align: right;\n",
       "    }\n",
       "</style>\n",
       "<table border=\"1\" class=\"dataframe\">\n",
       "  <thead>\n",
       "    <tr style=\"text-align: right;\">\n",
       "      <th></th>\n",
       "      <th>имя</th>\n",
       "      <th>язык</th>\n",
       "    </tr>\n",
       "  </thead>\n",
       "  <tbody>\n",
       "    <tr>\n",
       "      <th>0</th>\n",
       "      <td>Acapella</td>\n",
       "      <td>en</td>\n",
       "    </tr>\n",
       "    <tr>\n",
       "      <th>1</th>\n",
       "      <td>Achilles</td>\n",
       "      <td>en</td>\n",
       "    </tr>\n",
       "    <tr>\n",
       "      <th>2</th>\n",
       "      <td>Adriana</td>\n",
       "      <td>en</td>\n",
       "    </tr>\n",
       "    <tr>\n",
       "      <th>3</th>\n",
       "      <td>Alpha</td>\n",
       "      <td>en</td>\n",
       "    </tr>\n",
       "    <tr>\n",
       "      <th>4</th>\n",
       "      <td>Alyssum</td>\n",
       "      <td>en</td>\n",
       "    </tr>\n",
       "    <tr>\n",
       "      <th>...</th>\n",
       "      <td>...</td>\n",
       "      <td>...</td>\n",
       "    </tr>\n",
       "    <tr>\n",
       "      <th>2908</th>\n",
       "      <td>Ярика</td>\n",
       "      <td>rus</td>\n",
       "    </tr>\n",
       "    <tr>\n",
       "      <th>2909</th>\n",
       "      <td>Яриска</td>\n",
       "      <td>rus</td>\n",
       "    </tr>\n",
       "    <tr>\n",
       "      <th>2910</th>\n",
       "      <td>Ярка</td>\n",
       "      <td>rus</td>\n",
       "    </tr>\n",
       "    <tr>\n",
       "      <th>2911</th>\n",
       "      <td>Яркиса</td>\n",
       "      <td>rus</td>\n",
       "    </tr>\n",
       "    <tr>\n",
       "      <th>2912</th>\n",
       "      <td>Ярыся</td>\n",
       "      <td>rus</td>\n",
       "    </tr>\n",
       "  </tbody>\n",
       "</table>\n",
       "<p>2913 rows × 2 columns</p>\n",
       "</div>"
      ],
      "text/plain": [
       "           имя язык\n",
       "0     Acapella   en\n",
       "1     Achilles   en\n",
       "2      Adriana   en\n",
       "3        Alpha   en\n",
       "4      Alyssum   en\n",
       "...        ...  ...\n",
       "2908     Ярика  rus\n",
       "2909    Яриска  rus\n",
       "2910      Ярка  rus\n",
       "2911    Яркиса  rus\n",
       "2912     Ярыся  rus\n",
       "\n",
       "[2913 rows x 2 columns]"
      ]
     },
     "execution_count": 405,
     "metadata": {},
     "output_type": "execute_result"
    }
   ],
   "source": [
    "pets_data = pd.read_csv('/home/luchian/all_data/my_notebooks_data/pets_ru_en.csv')\n",
    "print(pets_data.shape)\n",
    "pets_data"
   ]
  },
  {
   "cell_type": "code",
   "execution_count": 406,
   "id": "373180b9",
   "metadata": {},
   "outputs": [],
   "source": [
    "class PetsData(object):\n",
    "    def __init__(self,dataset):\n",
    "        self.main_data = dataset\n",
    "\n",
    "    def __getitem__(self,indx):\n",
    "        string,lang = self.main_data.iloc[indx,:]\n",
    "        string_found = re.findall(r\"(.)\",string)\n",
    "        return ' '.join(string_found)\n",
    "    \n",
    "    def __len__(self):\n",
    "        return len(self.main_data) "
   ]
  },
  {
   "cell_type": "code",
   "execution_count": 407,
   "id": "4f03c44e",
   "metadata": {},
   "outputs": [
    {
     "data": {
      "text/plain": [
       "<iterator at 0x70facf891cc0>"
      ]
     },
     "execution_count": 407,
     "metadata": {},
     "output_type": "execute_result"
    }
   ],
   "source": [
    "some_iter = iter(PetsData(pets_data))\n",
    "some_iter"
   ]
  },
  {
   "cell_type": "code",
   "execution_count": 408,
   "id": "26917090",
   "metadata": {},
   "outputs": [
    {
     "data": {
      "text/plain": [
       "'A c a p e l l a'"
      ]
     },
     "execution_count": 408,
     "metadata": {},
     "output_type": "execute_result"
    }
   ],
   "source": [
    "next(some_iter)"
   ]
  },
  {
   "cell_type": "code",
   "execution_count": 409,
   "id": "354fe1d0",
   "metadata": {},
   "outputs": [],
   "source": [
    "pets_tokenizer = Tokenizer(WordLevel())\n",
    "pets_trainer = tokenizers.trainers.WordLevelTrainer(special_tokens = ['[PAD]','[SOS]','[EOS]','[RU]','[ENG]'])"
   ]
  },
  {
   "cell_type": "code",
   "execution_count": 410,
   "id": "3b19b462",
   "metadata": {},
   "outputs": [],
   "source": [
    "pets_tokenizer.pre_tokenizer = tokenizers.pre_tokenizers.Whitespace()\n",
    "pets_tokenizer.normalizer = tokenizers.normalizers.Lowercase()"
   ]
  },
  {
   "cell_type": "code",
   "execution_count": 411,
   "id": "00e25451",
   "metadata": {},
   "outputs": [],
   "source": [
    "pets_tokenizer.train_from_iterator(PetsData(pets_data),trainer=pets_trainer)"
   ]
  },
  {
   "cell_type": "code",
   "execution_count": 412,
   "id": "891cec88",
   "metadata": {},
   "outputs": [
    {
     "data": {
      "text/plain": [
       "64"
      ]
     },
     "execution_count": 412,
     "metadata": {},
     "output_type": "execute_result"
    }
   ],
   "source": [
    "pets_tokenizer.get_vocab_size()"
   ]
  },
  {
   "cell_type": "code",
   "execution_count": 413,
   "id": "feca9c99",
   "metadata": {},
   "outputs": [
    {
     "data": {
      "text/plain": [
       "3"
      ]
     },
     "execution_count": 413,
     "metadata": {},
     "output_type": "execute_result"
    }
   ],
   "source": [
    "pets_tokenizer.token_to_id('[RU]')"
   ]
  },
  {
   "cell_type": "code",
   "execution_count": 414,
   "id": "c81b1e18",
   "metadata": {},
   "outputs": [
    {
     "data": {
      "text/plain": [
       "4"
      ]
     },
     "execution_count": 414,
     "metadata": {},
     "output_type": "execute_result"
    }
   ],
   "source": [
    "pets_tokenizer.token_to_id('[ENG]')"
   ]
  },
  {
   "cell_type": "code",
   "execution_count": 415,
   "id": "9221fb43",
   "metadata": {},
   "outputs": [],
   "source": [
    "class Padding(object):\n",
    "    def __init__(self,pad = 26):\n",
    "        self.pad = pad \n",
    "\n",
    "    def __call__(self,X):\n",
    "        the_dtype = X.dtype\n",
    "        ret_tensor = torch.zeros(self.pad,dtype = the_dtype)\n",
    "        ret_tensor[:X.shape[0]] = X\n",
    "        return ret_tensor"
   ]
  },
  {
   "cell_type": "code",
   "execution_count": 521,
   "id": "689e0f70",
   "metadata": {},
   "outputs": [],
   "source": [
    "class PetsGenDataset(Dataset):\n",
    "    def __init__(self,data,transforms = None,tokenizer = pets_tokenizer):\n",
    "        self.main_data = data\n",
    "        self.transforms = transforms\n",
    "        self.tokenizer = tokenizer\n",
    "    \n",
    "    def __getitem__(self,indx):\n",
    "        tens = torch.LongTensor([pets_tokenizer.token_to_id(one_token[0].lower()) for one_token in self.tokenizer.pre_tokenizer.pre_tokenize_str(self.main_data[indx])])\n",
    "        #tokens \n",
    "        ru = torch.tensor(self.tokenizer.token_to_id('[RU]'),dtype = torch.int64).reshape(1)\n",
    "        eng = torch.tensor(self.tokenizer.token_to_id('[ENG]'),dtype = torch.int64).reshape(1)\n",
    "        sos = torch.tensor(self.tokenizer.token_to_id('[SOS]'),dtype = torch.int64).reshape(1)\n",
    "        eos = torch.tensor(self.tokenizer.token_to_id('[EOS]'),dtype = torch.int64).reshape(1)\n",
    "        pad = torch.tensor(self.tokenizer.token_to_id('[PAD]'),dtype = torch.int64).reshape(1)\n",
    "        #check ru or eng\n",
    "        if re.findall('[A-z]',self.main_data[indx]):\n",
    "            tens = torch.cat([eng,tens])\n",
    "        else:\n",
    "            tens = torch.cat([ru,tens])\n",
    "        tens = torch.cat([sos,tens,eos]) if self.transforms == None else self.transforms(torch.cat([sos,tens,eos]))\n",
    "        return tens,torch.cat([tens[1:],pad])\n",
    "    \n",
    "    def __len__(self):\n",
    "        return len(self.main_data)"
   ]
  },
  {
   "cell_type": "code",
   "execution_count": 522,
   "id": "15813985",
   "metadata": {},
   "outputs": [
    {
     "data": {
      "text/plain": [
       "<__main__.PetsGenDataset at 0x70facf8a1f10>"
      ]
     },
     "execution_count": 522,
     "metadata": {},
     "output_type": "execute_result"
    }
   ],
   "source": [
    "the_dataset = PetsGenDataset(PetsData(pets_data),transforms=Padding(26))\n",
    "the_dataset"
   ]
  },
  {
   "cell_type": "code",
   "execution_count": 523,
   "id": "c726c467",
   "metadata": {},
   "outputs": [
    {
     "data": {
      "text/plain": [
       "(tensor([ 1,  3, 43,  5, 21, 14, 24,  2,  0,  0,  0,  0,  0,  0,  0,  0,  0,  0,\n",
       "          0,  0,  0,  0,  0,  0,  0,  0]),\n",
       " tensor([ 3, 43,  5, 21, 14, 24,  2,  0,  0,  0,  0,  0,  0,  0,  0,  0,  0,  0,\n",
       "          0,  0,  0,  0,  0,  0,  0,  0]))"
      ]
     },
     "execution_count": 523,
     "metadata": {},
     "output_type": "execute_result"
    }
   ],
   "source": [
    "the_dataset[1532]"
   ]
  },
  {
   "cell_type": "code",
   "execution_count": 524,
   "id": "cc4f0c40",
   "metadata": {},
   "outputs": [
    {
     "data": {
      "text/plain": [
       "(torch.Size([128, 26]), torch.Size([128, 26]))"
      ]
     },
     "execution_count": 524,
     "metadata": {},
     "output_type": "execute_result"
    }
   ],
   "source": [
    "testing_loader = DataLoader(dataset = the_dataset,shuffle = True,batch_size = 128)\n",
    "testing_loader\n",
    "\n",
    "one_sample = next(iter(testing_loader))\n",
    "len(one_sample)\n",
    "\n",
    "one_sample[0].shape,one_sample[1].shape"
   ]
  },
  {
   "cell_type": "markdown",
   "id": "a8f2ded6",
   "metadata": {},
   "source": [
    "<p class=\"task\" id=\"6\"></p>\n",
    "\n",
    "6\\. Модифицируйте функцию для генерации имени, добавив возможность указать первый токен - `<RU>` или `<EN>`. Создайте и обучите модель для генерации имени питомца с указанием языка. Каждые несколько эпох выводите примеры генерации русскоязычных и англоязычных имен при помощи текущего состояния модели . Игнорируйте токен `<PAD>` при расчете ошибки. \n",
    "\n",
    "- [ ] Проверено на семинаре\n"
   ]
  },
  {
   "cell_type": "code",
   "execution_count": 528,
   "id": "b26a19e2",
   "metadata": {},
   "outputs": [],
   "source": [
    "def generate_name(model,tokenizer,dev = 'cuda',lang = 'ru'):\n",
    "    model.eval()\n",
    "    generated_tokens = []\n",
    "    lang = torch.tensor(tokenizer.token_to_id('[RU]' if lang == 'ru' else '[ENG]'),dtype = torch.int64).reshape(1).to(device = dev)\n",
    "    current_pred = lang\n",
    "    while current_pred != tokenizer.token_to_id('[EOS]'):\n",
    "        y_pred = model(current_pred)\n",
    "        probs = y_pred.cpu().softmax(dim = 1)\n",
    "        distr_item = torch.multinomial(probs,num_samples=1).reshape(-1).to(device = dev)\n",
    "        letter = tokenizer.id_to_token(distr_item.item())\n",
    "        if letter != '[EOS]':\n",
    "            generated_tokens.append(letter)\n",
    "        current_pred = distr_item\n",
    "    return ''.join(generated_tokens).capitalize()\n"
   ]
  },
  {
   "cell_type": "code",
   "execution_count": 533,
   "id": "39c0dad3",
   "metadata": {},
   "outputs": [],
   "source": [
    "training_dataset = the_dataset\n",
    "LangModel_lang = LanguageModel(\n",
    "    input_size=12,\n",
    "    hidden_size=32,\n",
    "    tokenizer=pets_tokenizer,\n",
    "    embd_dim = 12,\n",
    "    lins = 32\n",
    ").to(device = 'cuda')"
   ]
  },
  {
   "cell_type": "code",
   "execution_count": 534,
   "id": "61bf0256",
   "metadata": {},
   "outputs": [],
   "source": [
    "loss = nn.CrossEntropyLoss(reduction='mean')\n",
    "epoch = 32\n",
    "batch_size = 64\n",
    "lr = 0.03\n",
    "the_optim = torch.optim.Adam(LangModel_lang.parameters(),lr = lr,betas = (0.9,0.99))"
   ]
  },
  {
   "cell_type": "code",
   "execution_count": 535,
   "id": "4a14d294",
   "metadata": {},
   "outputs": [],
   "source": [
    "train_loader = DataLoader(dataset = training_dataset,shuffle = True,batch_size = batch_size)"
   ]
  },
  {
   "cell_type": "code",
   "execution_count": 536,
   "id": "ee3793ba",
   "metadata": {},
   "outputs": [],
   "source": [
    "def train_model(\n",
    "        model,\n",
    "        loss,\n",
    "        the_optim,\n",
    "        epoch,\n",
    "        loader,\n",
    "        dev = 'cuda',\n",
    "        print_every = 2\n",
    "):\n",
    "    loss_list = []\n",
    "    for ep in range(epoch):\n",
    "        model.train()\n",
    "        for X,y in loader:\n",
    "            X,y = X.to(device = dev),y.to(device = dev)\n",
    "            y_pred = model(X)\n",
    "            y = y.reshape(-1)\n",
    "            batch_loss = loss(y_pred,y)\n",
    "            batch_loss.backward()\n",
    "            loss_list.append(round(batch_loss.item(),5))\n",
    "            the_optim.step()\n",
    "            the_optim.zero_grad()\n",
    "        if ep % print_every == 0:\n",
    "            print(f'Epoch #{ep} | TrainLoss: {loss_list[-1]} | ru_word: {generate_name(model=model,tokenizer=model.tokenizer,dev = dev,lang = 'ru')}| eng_word: {generate_name(model=model,tokenizer=model.tokenizer,dev = dev,lang = 'eng')}')  \n",
    "    return loss_list   "
   ]
  },
  {
   "cell_type": "code",
   "execution_count": 537,
   "id": "73a48997",
   "metadata": {},
   "outputs": [
    {
     "name": "stdout",
     "output_type": "stream",
     "text": [
      "Epoch #0 | TrainLoss: 1.31159 | ru_word: Gidлtа| eng_word: Яаcе\n",
      "Epoch #2 | TrainLoss: 0.85638 | ru_word: Aogbkij[ru]савэ[ru]на| eng_word: Roвёзаса\n",
      "Epoch #4 | TrainLoss: 0.85812 | ru_word: Erae| eng_word: Tblofhornи\n",
      "Epoch #6 | TrainLoss: 0.90592 | ru_word: Фянэса| eng_word: Hitiwanncinun\n",
      "Epoch #8 | TrainLoss: 0.86378 | ru_word: Ва| eng_word: Nrodoococan\n",
      "Epoch #10 | TrainLoss: 0.79709 | ru_word: -ин| eng_word: Gdя\n",
      "Epoch #12 | TrainLoss: 0.81657 | ru_word: Вялллька| eng_word: Inas\n",
      "Epoch #14 | TrainLoss: 0.9018 | ru_word: Фття| eng_word: O\n",
      "Epoch #16 | TrainLoss: 0.8676 | ru_word: А| eng_word: Yshm\n",
      "Epoch #18 | TrainLoss: 0.77997 | ru_word: Nn| eng_word: Llldtasaiesy\n",
      "Epoch #20 | TrainLoss: 0.86177 | ru_word: Ухля| eng_word: Foy\n",
      "Epoch #22 | TrainLoss: 0.80221 | ru_word: [eng]wansaisianctwieylaylilthertba| eng_word: Abackpamerilenipaztritraрминка\n",
      "Epoch #24 | TrainLoss: 0.8284 | ru_word: Ди| eng_word: Boro\n",
      "Epoch #26 | TrainLoss: 0.79105 | ru_word: Шкулитисафлуkcer| eng_word: H\n",
      "Epoch #28 | TrainLoss: 0.8341 | ru_word: Нюшерча| eng_word: Asitpid\n",
      "Epoch #30 | TrainLoss: 0.84579 | ru_word: Татома| eng_word: Rockenellisphaz\n"
     ]
    }
   ],
   "source": [
    "the_losses = train_model(\n",
    "    model=LangModel_lang,\n",
    "    loss = loss,\n",
    "    the_optim=the_optim,\n",
    "    epoch=epoch,\n",
    "    loader = train_loader    \n",
    ")"
   ]
  },
  {
   "cell_type": "code",
   "execution_count": 538,
   "id": "1b9ea5cc",
   "metadata": {},
   "outputs": [
    {
     "data": {
      "text/plain": [
       "<Axes: xlabel='Loss over batches', ylabel='Loss function'>"
      ]
     },
     "execution_count": 538,
     "metadata": {},
     "output_type": "execute_result"
    },
    {
     "data": {
      "image/png": "[encoded data removed]",
      "text/plain": [
       "<Figure size 1000x500 with 1 Axes>"
      ]
     },
     "metadata": {},
     "output_type": "display_data"
    }
   ],
   "source": [
    "plot_losses(the_losses)"
   ]
  }
 ],
 "metadata": {
  "kernelspec": {
   "display_name": "venv-MyPython",
   "language": "python",
   "name": "python3"
  },
  "language_info": {
   "codemirror_mode": {
    "name": "ipython",
    "version": 3
   },
   "file_extension": ".py",
   "mimetype": "text/x-python",
   "name": "python",
   "nbconvert_exporter": "python",
   "pygments_lexer": "ipython3",
   "version": "3.12.3"
  }
 },
 "nbformat": 4,
 "nbformat_minor": 5
}
